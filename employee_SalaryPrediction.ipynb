{
 "cells": [
  {
   "cell_type": "code",
   "execution_count": 17,
   "metadata": {},
   "outputs": [],
   "source": [
    "#import libreries and dataset\n",
    "import pandas as pd\n",
    "import numpy as np\n",
    "#For visualization import libreries\n",
    "import seaborn as sns\n",
    "import matplotlib.pyplot as plt"
   ]
  },
  {
   "cell_type": "code",
   "execution_count": 18,
   "metadata": {},
   "outputs": [],
   "source": [
    "# use pandas to read csv file.\n",
    "salary_df = pd.read_csv(\"Salary.csv\")"
   ]
  },
  {
   "cell_type": "code",
   "execution_count": 19,
   "metadata": {},
   "outputs": [
    {
     "data": {
      "text/html": [
       "<div>\n",
       "<style scoped>\n",
       "    .dataframe tbody tr th:only-of-type {\n",
       "        vertical-align: middle;\n",
       "    }\n",
       "\n",
       "    .dataframe tbody tr th {\n",
       "        vertical-align: top;\n",
       "    }\n",
       "\n",
       "    .dataframe thead th {\n",
       "        text-align: right;\n",
       "    }\n",
       "</style>\n",
       "<table border=\"1\" class=\"dataframe\">\n",
       "  <thead>\n",
       "    <tr style=\"text-align: right;\">\n",
       "      <th></th>\n",
       "      <th>YearsExperience</th>\n",
       "      <th>Salary</th>\n",
       "    </tr>\n",
       "  </thead>\n",
       "  <tbody>\n",
       "    <tr>\n",
       "      <th>0</th>\n",
       "      <td>1.1</td>\n",
       "      <td>39343</td>\n",
       "    </tr>\n",
       "    <tr>\n",
       "      <th>1</th>\n",
       "      <td>1.3</td>\n",
       "      <td>46205</td>\n",
       "    </tr>\n",
       "    <tr>\n",
       "      <th>2</th>\n",
       "      <td>1.5</td>\n",
       "      <td>37731</td>\n",
       "    </tr>\n",
       "    <tr>\n",
       "      <th>3</th>\n",
       "      <td>2.0</td>\n",
       "      <td>43525</td>\n",
       "    </tr>\n",
       "    <tr>\n",
       "      <th>4</th>\n",
       "      <td>2.2</td>\n",
       "      <td>39891</td>\n",
       "    </tr>\n",
       "    <tr>\n",
       "      <th>5</th>\n",
       "      <td>2.9</td>\n",
       "      <td>56642</td>\n",
       "    </tr>\n",
       "    <tr>\n",
       "      <th>6</th>\n",
       "      <td>3.0</td>\n",
       "      <td>60150</td>\n",
       "    </tr>\n",
       "    <tr>\n",
       "      <th>7</th>\n",
       "      <td>3.2</td>\n",
       "      <td>54445</td>\n",
       "    </tr>\n",
       "    <tr>\n",
       "      <th>8</th>\n",
       "      <td>3.2</td>\n",
       "      <td>64445</td>\n",
       "    </tr>\n",
       "    <tr>\n",
       "      <th>9</th>\n",
       "      <td>3.7</td>\n",
       "      <td>57189</td>\n",
       "    </tr>\n",
       "    <tr>\n",
       "      <th>10</th>\n",
       "      <td>3.9</td>\n",
       "      <td>63218</td>\n",
       "    </tr>\n",
       "    <tr>\n",
       "      <th>11</th>\n",
       "      <td>4.0</td>\n",
       "      <td>55794</td>\n",
       "    </tr>\n",
       "    <tr>\n",
       "      <th>12</th>\n",
       "      <td>4.0</td>\n",
       "      <td>56957</td>\n",
       "    </tr>\n",
       "    <tr>\n",
       "      <th>13</th>\n",
       "      <td>4.1</td>\n",
       "      <td>57081</td>\n",
       "    </tr>\n",
       "    <tr>\n",
       "      <th>14</th>\n",
       "      <td>4.5</td>\n",
       "      <td>61111</td>\n",
       "    </tr>\n",
       "    <tr>\n",
       "      <th>15</th>\n",
       "      <td>4.9</td>\n",
       "      <td>67938</td>\n",
       "    </tr>\n",
       "    <tr>\n",
       "      <th>16</th>\n",
       "      <td>5.1</td>\n",
       "      <td>66029</td>\n",
       "    </tr>\n",
       "    <tr>\n",
       "      <th>17</th>\n",
       "      <td>5.3</td>\n",
       "      <td>83088</td>\n",
       "    </tr>\n",
       "    <tr>\n",
       "      <th>18</th>\n",
       "      <td>5.9</td>\n",
       "      <td>81363</td>\n",
       "    </tr>\n",
       "    <tr>\n",
       "      <th>19</th>\n",
       "      <td>6.0</td>\n",
       "      <td>93940</td>\n",
       "    </tr>\n",
       "    <tr>\n",
       "      <th>20</th>\n",
       "      <td>6.8</td>\n",
       "      <td>91738</td>\n",
       "    </tr>\n",
       "    <tr>\n",
       "      <th>21</th>\n",
       "      <td>7.1</td>\n",
       "      <td>98273</td>\n",
       "    </tr>\n",
       "    <tr>\n",
       "      <th>22</th>\n",
       "      <td>7.9</td>\n",
       "      <td>101302</td>\n",
       "    </tr>\n",
       "    <tr>\n",
       "      <th>23</th>\n",
       "      <td>8.2</td>\n",
       "      <td>113812</td>\n",
       "    </tr>\n",
       "    <tr>\n",
       "      <th>24</th>\n",
       "      <td>8.7</td>\n",
       "      <td>109431</td>\n",
       "    </tr>\n",
       "    <tr>\n",
       "      <th>25</th>\n",
       "      <td>9.0</td>\n",
       "      <td>105582</td>\n",
       "    </tr>\n",
       "    <tr>\n",
       "      <th>26</th>\n",
       "      <td>9.5</td>\n",
       "      <td>116969</td>\n",
       "    </tr>\n",
       "    <tr>\n",
       "      <th>27</th>\n",
       "      <td>9.6</td>\n",
       "      <td>112635</td>\n",
       "    </tr>\n",
       "    <tr>\n",
       "      <th>28</th>\n",
       "      <td>10.3</td>\n",
       "      <td>122391</td>\n",
       "    </tr>\n",
       "    <tr>\n",
       "      <th>29</th>\n",
       "      <td>10.5</td>\n",
       "      <td>121872</td>\n",
       "    </tr>\n",
       "    <tr>\n",
       "      <th>30</th>\n",
       "      <td>11.2</td>\n",
       "      <td>127345</td>\n",
       "    </tr>\n",
       "    <tr>\n",
       "      <th>31</th>\n",
       "      <td>11.5</td>\n",
       "      <td>126756</td>\n",
       "    </tr>\n",
       "    <tr>\n",
       "      <th>32</th>\n",
       "      <td>12.3</td>\n",
       "      <td>128765</td>\n",
       "    </tr>\n",
       "    <tr>\n",
       "      <th>33</th>\n",
       "      <td>12.9</td>\n",
       "      <td>135675</td>\n",
       "    </tr>\n",
       "    <tr>\n",
       "      <th>34</th>\n",
       "      <td>13.5</td>\n",
       "      <td>139465</td>\n",
       "    </tr>\n",
       "  </tbody>\n",
       "</table>\n",
       "</div>"
      ],
      "text/plain": [
       "    YearsExperience  Salary\n",
       "0               1.1   39343\n",
       "1               1.3   46205\n",
       "2               1.5   37731\n",
       "3               2.0   43525\n",
       "4               2.2   39891\n",
       "5               2.9   56642\n",
       "6               3.0   60150\n",
       "7               3.2   54445\n",
       "8               3.2   64445\n",
       "9               3.7   57189\n",
       "10              3.9   63218\n",
       "11              4.0   55794\n",
       "12              4.0   56957\n",
       "13              4.1   57081\n",
       "14              4.5   61111\n",
       "15              4.9   67938\n",
       "16              5.1   66029\n",
       "17              5.3   83088\n",
       "18              5.9   81363\n",
       "19              6.0   93940\n",
       "20              6.8   91738\n",
       "21              7.1   98273\n",
       "22              7.9  101302\n",
       "23              8.2  113812\n",
       "24              8.7  109431\n",
       "25              9.0  105582\n",
       "26              9.5  116969\n",
       "27              9.6  112635\n",
       "28             10.3  122391\n",
       "29             10.5  121872\n",
       "30             11.2  127345\n",
       "31             11.5  126756\n",
       "32             12.3  128765\n",
       "33             12.9  135675\n",
       "34             13.5  139465"
      ]
     },
     "execution_count": 19,
     "metadata": {},
     "output_type": "execute_result"
    }
   ],
   "source": [
    "salary_df"
   ]
  },
  {
   "cell_type": "code",
   "execution_count": 20,
   "metadata": {},
   "outputs": [
    {
     "data": {
      "text/html": [
       "<div>\n",
       "<style scoped>\n",
       "    .dataframe tbody tr th:only-of-type {\n",
       "        vertical-align: middle;\n",
       "    }\n",
       "\n",
       "    .dataframe tbody tr th {\n",
       "        vertical-align: top;\n",
       "    }\n",
       "\n",
       "    .dataframe thead th {\n",
       "        text-align: right;\n",
       "    }\n",
       "</style>\n",
       "<table border=\"1\" class=\"dataframe\">\n",
       "  <thead>\n",
       "    <tr style=\"text-align: right;\">\n",
       "      <th></th>\n",
       "      <th>YearsExperience</th>\n",
       "      <th>Salary</th>\n",
       "    </tr>\n",
       "  </thead>\n",
       "  <tbody>\n",
       "    <tr>\n",
       "      <th>0</th>\n",
       "      <td>1.1</td>\n",
       "      <td>39343</td>\n",
       "    </tr>\n",
       "    <tr>\n",
       "      <th>1</th>\n",
       "      <td>1.3</td>\n",
       "      <td>46205</td>\n",
       "    </tr>\n",
       "    <tr>\n",
       "      <th>2</th>\n",
       "      <td>1.5</td>\n",
       "      <td>37731</td>\n",
       "    </tr>\n",
       "    <tr>\n",
       "      <th>3</th>\n",
       "      <td>2.0</td>\n",
       "      <td>43525</td>\n",
       "    </tr>\n",
       "    <tr>\n",
       "      <th>4</th>\n",
       "      <td>2.2</td>\n",
       "      <td>39891</td>\n",
       "    </tr>\n",
       "    <tr>\n",
       "      <th>5</th>\n",
       "      <td>2.9</td>\n",
       "      <td>56642</td>\n",
       "    </tr>\n",
       "    <tr>\n",
       "      <th>6</th>\n",
       "      <td>3.0</td>\n",
       "      <td>60150</td>\n",
       "    </tr>\n",
       "  </tbody>\n",
       "</table>\n",
       "</div>"
      ],
      "text/plain": [
       "   YearsExperience  Salary\n",
       "0              1.1   39343\n",
       "1              1.3   46205\n",
       "2              1.5   37731\n",
       "3              2.0   43525\n",
       "4              2.2   39891\n",
       "5              2.9   56642\n",
       "6              3.0   60150"
      ]
     },
     "execution_count": 20,
     "metadata": {},
     "output_type": "execute_result"
    }
   ],
   "source": [
    "#head() returns the first n elements in array.\n",
    "salary_df.head(7)"
   ]
  },
  {
   "cell_type": "code",
   "execution_count": 21,
   "metadata": {},
   "outputs": [
    {
     "data": {
      "text/html": [
       "<div>\n",
       "<style scoped>\n",
       "    .dataframe tbody tr th:only-of-type {\n",
       "        vertical-align: middle;\n",
       "    }\n",
       "\n",
       "    .dataframe tbody tr th {\n",
       "        vertical-align: top;\n",
       "    }\n",
       "\n",
       "    .dataframe thead th {\n",
       "        text-align: right;\n",
       "    }\n",
       "</style>\n",
       "<table border=\"1\" class=\"dataframe\">\n",
       "  <thead>\n",
       "    <tr style=\"text-align: right;\">\n",
       "      <th></th>\n",
       "      <th>YearsExperience</th>\n",
       "      <th>Salary</th>\n",
       "    </tr>\n",
       "  </thead>\n",
       "  <tbody>\n",
       "    <tr>\n",
       "      <th>28</th>\n",
       "      <td>10.3</td>\n",
       "      <td>122391</td>\n",
       "    </tr>\n",
       "    <tr>\n",
       "      <th>29</th>\n",
       "      <td>10.5</td>\n",
       "      <td>121872</td>\n",
       "    </tr>\n",
       "    <tr>\n",
       "      <th>30</th>\n",
       "      <td>11.2</td>\n",
       "      <td>127345</td>\n",
       "    </tr>\n",
       "    <tr>\n",
       "      <th>31</th>\n",
       "      <td>11.5</td>\n",
       "      <td>126756</td>\n",
       "    </tr>\n",
       "    <tr>\n",
       "      <th>32</th>\n",
       "      <td>12.3</td>\n",
       "      <td>128765</td>\n",
       "    </tr>\n",
       "    <tr>\n",
       "      <th>33</th>\n",
       "      <td>12.9</td>\n",
       "      <td>135675</td>\n",
       "    </tr>\n",
       "    <tr>\n",
       "      <th>34</th>\n",
       "      <td>13.5</td>\n",
       "      <td>139465</td>\n",
       "    </tr>\n",
       "  </tbody>\n",
       "</table>\n",
       "</div>"
      ],
      "text/plain": [
       "    YearsExperience  Salary\n",
       "28             10.3  122391\n",
       "29             10.5  121872\n",
       "30             11.2  127345\n",
       "31             11.5  126756\n",
       "32             12.3  128765\n",
       "33             12.9  135675\n",
       "34             13.5  139465"
      ]
     },
     "execution_count": 21,
     "metadata": {},
     "output_type": "execute_result"
    }
   ],
   "source": [
    "#tail() returns the last n elements in an array.\n",
    "salary_df.tail(7)"
   ]
  },
  {
   "cell_type": "code",
   "execution_count": 22,
   "metadata": {},
   "outputs": [
    {
     "data": {
      "text/plain": [
       "139465"
      ]
     },
     "execution_count": 22,
     "metadata": {},
     "output_type": "execute_result"
    }
   ],
   "source": [
    "#To find the maximum salary value in a DataFrame.\n",
    "#First convert the .csv formate data to DataFrame formate.\n",
    "df = pd.DataFrame(salary_df)\n",
    "#Only read the salary column values.\n",
    "salary_col = df[\"Salary\"]\n",
    "#find the maximum salary value.\n",
    "max_val = salary_col.max()\n",
    "max_val"
   ]
  },
  {
   "cell_type": "code",
   "execution_count": 23,
   "metadata": {},
   "outputs": [
    {
     "data": {
      "text/plain": [
       "139465"
      ]
     },
     "execution_count": 23,
     "metadata": {},
     "output_type": "execute_result"
    }
   ],
   "source": [
    "#OR simple way to find thw maximun salary value.\n",
    "salary_df[\"Salary\"].max()"
   ]
  },
  {
   "cell_type": "code",
   "execution_count": 24,
   "metadata": {},
   "outputs": [
    {
     "data": {
      "text/plain": [
       "<matplotlib.axes._subplots.AxesSubplot at 0x7feb8e99d990>"
      ]
     },
     "execution_count": 24,
     "metadata": {},
     "output_type": "execute_result"
    },
    {
     "data": {
      "image/png": "[encoded data removed]",
      "text/plain": [
       "<Figure size 432x288 with 1 Axes>"
      ]
     },
     "metadata": {
      "needs_background": "light"
     },
     "output_type": "display_data"
    }
   ],
   "source": [
    "#PERFORM EXPLORATORY DATA ANALYSIS AND VISUALIZATION\n",
    "\n",
    "#Detecting the missing values using seaborn\n",
    "sns.heatmap(salary_df.isnull(), yticklabels = False, cbar = False, cmap = 'Blues')\n",
    "#HEATMAP():: \"Is a visualization tool helps to represents the magnitude of the phenomenon in the form of color.\"\n",
    "\n",
    "\n",
    "#The below diagram represent there is no missing values in data."
   ]
  },
  {
   "cell_type": "code",
   "execution_count": 25,
   "metadata": {},
   "outputs": [
    {
     "data": {
      "text/html": [
       "<div>\n",
       "<style scoped>\n",
       "    .dataframe tbody tr th:only-of-type {\n",
       "        vertical-align: middle;\n",
       "    }\n",
       "\n",
       "    .dataframe tbody tr th {\n",
       "        vertical-align: top;\n",
       "    }\n",
       "\n",
       "    .dataframe thead th {\n",
       "        text-align: right;\n",
       "    }\n",
       "</style>\n",
       "<table border=\"1\" class=\"dataframe\">\n",
       "  <thead>\n",
       "    <tr style=\"text-align: right;\">\n",
       "      <th></th>\n",
       "      <th>YearsExperience</th>\n",
       "      <th>Salary</th>\n",
       "    </tr>\n",
       "  </thead>\n",
       "  <tbody>\n",
       "    <tr>\n",
       "      <th>count</th>\n",
       "      <td>35.000000</td>\n",
       "      <td>35.000000</td>\n",
       "    </tr>\n",
       "    <tr>\n",
       "      <th>mean</th>\n",
       "      <td>6.308571</td>\n",
       "      <td>83945.600000</td>\n",
       "    </tr>\n",
       "    <tr>\n",
       "      <th>std</th>\n",
       "      <td>3.618610</td>\n",
       "      <td>32162.673003</td>\n",
       "    </tr>\n",
       "    <tr>\n",
       "      <th>min</th>\n",
       "      <td>1.100000</td>\n",
       "      <td>37731.000000</td>\n",
       "    </tr>\n",
       "    <tr>\n",
       "      <th>25%</th>\n",
       "      <td>3.450000</td>\n",
       "      <td>57019.000000</td>\n",
       "    </tr>\n",
       "    <tr>\n",
       "      <th>50%</th>\n",
       "      <td>5.300000</td>\n",
       "      <td>81363.000000</td>\n",
       "    </tr>\n",
       "    <tr>\n",
       "      <th>75%</th>\n",
       "      <td>9.250000</td>\n",
       "      <td>113223.500000</td>\n",
       "    </tr>\n",
       "    <tr>\n",
       "      <th>max</th>\n",
       "      <td>13.500000</td>\n",
       "      <td>139465.000000</td>\n",
       "    </tr>\n",
       "  </tbody>\n",
       "</table>\n",
       "</div>"
      ],
      "text/plain": [
       "       YearsExperience         Salary\n",
       "count        35.000000      35.000000\n",
       "mean          6.308571   83945.600000\n",
       "std           3.618610   32162.673003\n",
       "min           1.100000   37731.000000\n",
       "25%           3.450000   57019.000000\n",
       "50%           5.300000   81363.000000\n",
       "75%           9.250000  113223.500000\n",
       "max          13.500000  139465.000000"
      ]
     },
     "execution_count": 25,
     "metadata": {},
     "output_type": "execute_result"
    }
   ],
   "source": [
    "salary_df.describe()"
   ]
  },
  {
   "cell_type": "code",
   "execution_count": 26,
   "metadata": {},
   "outputs": [
    {
     "data": {
      "text/html": [
       "<div>\n",
       "<style scoped>\n",
       "    .dataframe tbody tr th:only-of-type {\n",
       "        vertical-align: middle;\n",
       "    }\n",
       "\n",
       "    .dataframe tbody tr th {\n",
       "        vertical-align: top;\n",
       "    }\n",
       "\n",
       "    .dataframe thead th {\n",
       "        text-align: right;\n",
       "    }\n",
       "</style>\n",
       "<table border=\"1\" class=\"dataframe\">\n",
       "  <thead>\n",
       "    <tr style=\"text-align: right;\">\n",
       "      <th></th>\n",
       "      <th>YearsExperience</th>\n",
       "      <th>Salary</th>\n",
       "    </tr>\n",
       "  </thead>\n",
       "  <tbody>\n",
       "    <tr>\n",
       "      <th>34</th>\n",
       "      <td>13.5</td>\n",
       "      <td>139465</td>\n",
       "    </tr>\n",
       "  </tbody>\n",
       "</table>\n",
       "</div>"
      ],
      "text/plain": [
       "    YearsExperience  Salary\n",
       "34             13.5  139465"
      ]
     },
     "execution_count": 26,
     "metadata": {},
     "output_type": "execute_result"
    }
   ],
   "source": [
    "#Number of year of experiance needed to get the maximum and minimum salary\n",
    "salary_df[salary_df[\"Salary\"] == salary_df[\"Salary\"].max()]"
   ]
  },
  {
   "cell_type": "code",
   "execution_count": 27,
   "metadata": {},
   "outputs": [
    {
     "data": {
      "text/html": [
       "<div>\n",
       "<style scoped>\n",
       "    .dataframe tbody tr th:only-of-type {\n",
       "        vertical-align: middle;\n",
       "    }\n",
       "\n",
       "    .dataframe tbody tr th {\n",
       "        vertical-align: top;\n",
       "    }\n",
       "\n",
       "    .dataframe thead th {\n",
       "        text-align: right;\n",
       "    }\n",
       "</style>\n",
       "<table border=\"1\" class=\"dataframe\">\n",
       "  <thead>\n",
       "    <tr style=\"text-align: right;\">\n",
       "      <th></th>\n",
       "      <th>YearsExperience</th>\n",
       "      <th>Salary</th>\n",
       "    </tr>\n",
       "  </thead>\n",
       "  <tbody>\n",
       "    <tr>\n",
       "      <th>2</th>\n",
       "      <td>1.5</td>\n",
       "      <td>37731</td>\n",
       "    </tr>\n",
       "  </tbody>\n",
       "</table>\n",
       "</div>"
      ],
      "text/plain": [
       "   YearsExperience  Salary\n",
       "2              1.5   37731"
      ]
     },
     "execution_count": 27,
     "metadata": {},
     "output_type": "execute_result"
    }
   ],
   "source": [
    "salary_df[salary_df[\"Salary\"] == salary_df[\"Salary\"].min()]"
   ]
  },
  {
   "cell_type": "code",
   "execution_count": 28,
   "metadata": {},
   "outputs": [
    {
     "data": {
      "text/plain": [
       "array([[<matplotlib.axes._subplots.AxesSubplot object at 0x7feb8e594e90>,\n",
       "        <matplotlib.axes._subplots.AxesSubplot object at 0x7feb8e558c10>]],\n",
       "      dtype=object)"
      ]
     },
     "execution_count": 28,
     "metadata": {},
     "output_type": "execute_result"
    },
    {
     "data": {
      "image/png": "[encoded data removed]",
      "text/plain": [
       "<Figure size 1440x720 with 2 Axes>"
      ]
     },
     "metadata": {
      "needs_background": "light"
     },
     "output_type": "display_data"
    }
   ],
   "source": [
    "salary_df.hist(bins=100, figsize=(20,10), color='r')"
   ]
  },
  {
   "cell_type": "code",
   "execution_count": 29,
   "metadata": {},
   "outputs": [],
   "source": [
    "#sns.pairplot(salary_df)"
   ]
  },
  {
   "cell_type": "code",
   "execution_count": 30,
   "metadata": {},
   "outputs": [
    {
     "data": {
      "text/plain": [
       "<matplotlib.axes._subplots.AxesSubplot at 0x7feb8e1719d0>"
      ]
     },
     "execution_count": 30,
     "metadata": {},
     "output_type": "execute_result"
    },
    {
     "data": {
      "image/png": "[encoded data removed]",
      "text/plain": [
       "<Figure size 432x288 with 2 Axes>"
      ]
     },
     "metadata": {
      "needs_background": "light"
     },
     "output_type": "display_data"
    }
   ],
   "source": [
    "#find correlation between all varialbles.\n",
    "#salary is correlated with yearsExperience=0.98  and  yearsExperience is correlated with itself=1\n",
    "corr_matrix = salary_df.corr()\n",
    "sns.heatmap(corr_matrix, annot=True)#if annotation=True, then it show actual val within matrix, otherwise(False) not "
   ]
  },
  {
   "cell_type": "code",
   "execution_count": 31,
   "metadata": {},
   "outputs": [
    {
     "data": {
      "text/plain": [
       "<matplotlib.axes._subplots.AxesSubplot at 0x7feb8de345d0>"
      ]
     },
     "execution_count": 31,
     "metadata": {},
     "output_type": "execute_result"
    },
    {
     "data": {
      "image/png": "[encoded data removed]",
      "text/plain": [
       "<Figure size 432x288 with 1 Axes>"
      ]
     },
     "metadata": {
      "needs_background": "light"
     },
     "output_type": "display_data"
    }
   ],
   "source": [
    "#using regplot in seaborn to obtain the straight line bewteen years of experience and salary.\n",
    "sns.regplot(x='YearsExperience', y='Salary', data=salary_df)"
   ]
  },
  {
   "cell_type": "code",
   "execution_count": 32,
   "metadata": {},
   "outputs": [],
   "source": [
    "#4 CREATE TRAINING AND TESTING DATASET:\n",
    "\n",
    "X=salary_df[['YearsExperience']]\n",
    "y=salary_df[['Salary']]"
   ]
  },
  {
   "cell_type": "code",
   "execution_count": 33,
   "metadata": {},
   "outputs": [
    {
     "data": {
      "text/html": [
       "<div>\n",
       "<style scoped>\n",
       "    .dataframe tbody tr th:only-of-type {\n",
       "        vertical-align: middle;\n",
       "    }\n",
       "\n",
       "    .dataframe tbody tr th {\n",
       "        vertical-align: top;\n",
       "    }\n",
       "\n",
       "    .dataframe thead th {\n",
       "        text-align: right;\n",
       "    }\n",
       "</style>\n",
       "<table border=\"1\" class=\"dataframe\">\n",
       "  <thead>\n",
       "    <tr style=\"text-align: right;\">\n",
       "      <th></th>\n",
       "      <th>YearsExperience</th>\n",
       "    </tr>\n",
       "  </thead>\n",
       "  <tbody>\n",
       "    <tr>\n",
       "      <th>0</th>\n",
       "      <td>1.1</td>\n",
       "    </tr>\n",
       "    <tr>\n",
       "      <th>1</th>\n",
       "      <td>1.3</td>\n",
       "    </tr>\n",
       "    <tr>\n",
       "      <th>2</th>\n",
       "      <td>1.5</td>\n",
       "    </tr>\n",
       "    <tr>\n",
       "      <th>3</th>\n",
       "      <td>2.0</td>\n",
       "    </tr>\n",
       "    <tr>\n",
       "      <th>4</th>\n",
       "      <td>2.2</td>\n",
       "    </tr>\n",
       "    <tr>\n",
       "      <th>5</th>\n",
       "      <td>2.9</td>\n",
       "    </tr>\n",
       "    <tr>\n",
       "      <th>6</th>\n",
       "      <td>3.0</td>\n",
       "    </tr>\n",
       "    <tr>\n",
       "      <th>7</th>\n",
       "      <td>3.2</td>\n",
       "    </tr>\n",
       "    <tr>\n",
       "      <th>8</th>\n",
       "      <td>3.2</td>\n",
       "    </tr>\n",
       "    <tr>\n",
       "      <th>9</th>\n",
       "      <td>3.7</td>\n",
       "    </tr>\n",
       "    <tr>\n",
       "      <th>10</th>\n",
       "      <td>3.9</td>\n",
       "    </tr>\n",
       "    <tr>\n",
       "      <th>11</th>\n",
       "      <td>4.0</td>\n",
       "    </tr>\n",
       "    <tr>\n",
       "      <th>12</th>\n",
       "      <td>4.0</td>\n",
       "    </tr>\n",
       "    <tr>\n",
       "      <th>13</th>\n",
       "      <td>4.1</td>\n",
       "    </tr>\n",
       "    <tr>\n",
       "      <th>14</th>\n",
       "      <td>4.5</td>\n",
       "    </tr>\n",
       "    <tr>\n",
       "      <th>15</th>\n",
       "      <td>4.9</td>\n",
       "    </tr>\n",
       "    <tr>\n",
       "      <th>16</th>\n",
       "      <td>5.1</td>\n",
       "    </tr>\n",
       "    <tr>\n",
       "      <th>17</th>\n",
       "      <td>5.3</td>\n",
       "    </tr>\n",
       "    <tr>\n",
       "      <th>18</th>\n",
       "      <td>5.9</td>\n",
       "    </tr>\n",
       "    <tr>\n",
       "      <th>19</th>\n",
       "      <td>6.0</td>\n",
       "    </tr>\n",
       "    <tr>\n",
       "      <th>20</th>\n",
       "      <td>6.8</td>\n",
       "    </tr>\n",
       "    <tr>\n",
       "      <th>21</th>\n",
       "      <td>7.1</td>\n",
       "    </tr>\n",
       "    <tr>\n",
       "      <th>22</th>\n",
       "      <td>7.9</td>\n",
       "    </tr>\n",
       "    <tr>\n",
       "      <th>23</th>\n",
       "      <td>8.2</td>\n",
       "    </tr>\n",
       "    <tr>\n",
       "      <th>24</th>\n",
       "      <td>8.7</td>\n",
       "    </tr>\n",
       "    <tr>\n",
       "      <th>25</th>\n",
       "      <td>9.0</td>\n",
       "    </tr>\n",
       "    <tr>\n",
       "      <th>26</th>\n",
       "      <td>9.5</td>\n",
       "    </tr>\n",
       "    <tr>\n",
       "      <th>27</th>\n",
       "      <td>9.6</td>\n",
       "    </tr>\n",
       "    <tr>\n",
       "      <th>28</th>\n",
       "      <td>10.3</td>\n",
       "    </tr>\n",
       "    <tr>\n",
       "      <th>29</th>\n",
       "      <td>10.5</td>\n",
       "    </tr>\n",
       "    <tr>\n",
       "      <th>30</th>\n",
       "      <td>11.2</td>\n",
       "    </tr>\n",
       "    <tr>\n",
       "      <th>31</th>\n",
       "      <td>11.5</td>\n",
       "    </tr>\n",
       "    <tr>\n",
       "      <th>32</th>\n",
       "      <td>12.3</td>\n",
       "    </tr>\n",
       "    <tr>\n",
       "      <th>33</th>\n",
       "      <td>12.9</td>\n",
       "    </tr>\n",
       "    <tr>\n",
       "      <th>34</th>\n",
       "      <td>13.5</td>\n",
       "    </tr>\n",
       "  </tbody>\n",
       "</table>\n",
       "</div>"
      ],
      "text/plain": [
       "    YearsExperience\n",
       "0               1.1\n",
       "1               1.3\n",
       "2               1.5\n",
       "3               2.0\n",
       "4               2.2\n",
       "5               2.9\n",
       "6               3.0\n",
       "7               3.2\n",
       "8               3.2\n",
       "9               3.7\n",
       "10              3.9\n",
       "11              4.0\n",
       "12              4.0\n",
       "13              4.1\n",
       "14              4.5\n",
       "15              4.9\n",
       "16              5.1\n",
       "17              5.3\n",
       "18              5.9\n",
       "19              6.0\n",
       "20              6.8\n",
       "21              7.1\n",
       "22              7.9\n",
       "23              8.2\n",
       "24              8.7\n",
       "25              9.0\n",
       "26              9.5\n",
       "27              9.6\n",
       "28             10.3\n",
       "29             10.5\n",
       "30             11.2\n",
       "31             11.5\n",
       "32             12.3\n",
       "33             12.9\n",
       "34             13.5"
      ]
     },
     "execution_count": 33,
     "metadata": {},
     "output_type": "execute_result"
    }
   ],
   "source": [
    "X #indeoendent variable"
   ]
  },
  {
   "cell_type": "code",
   "execution_count": 34,
   "metadata": {},
   "outputs": [
    {
     "data": {
      "text/html": [
       "<div>\n",
       "<style scoped>\n",
       "    .dataframe tbody tr th:only-of-type {\n",
       "        vertical-align: middle;\n",
       "    }\n",
       "\n",
       "    .dataframe tbody tr th {\n",
       "        vertical-align: top;\n",
       "    }\n",
       "\n",
       "    .dataframe thead th {\n",
       "        text-align: right;\n",
       "    }\n",
       "</style>\n",
       "<table border=\"1\" class=\"dataframe\">\n",
       "  <thead>\n",
       "    <tr style=\"text-align: right;\">\n",
       "      <th></th>\n",
       "      <th>Salary</th>\n",
       "    </tr>\n",
       "  </thead>\n",
       "  <tbody>\n",
       "    <tr>\n",
       "      <th>0</th>\n",
       "      <td>39343</td>\n",
       "    </tr>\n",
       "    <tr>\n",
       "      <th>1</th>\n",
       "      <td>46205</td>\n",
       "    </tr>\n",
       "    <tr>\n",
       "      <th>2</th>\n",
       "      <td>37731</td>\n",
       "    </tr>\n",
       "    <tr>\n",
       "      <th>3</th>\n",
       "      <td>43525</td>\n",
       "    </tr>\n",
       "    <tr>\n",
       "      <th>4</th>\n",
       "      <td>39891</td>\n",
       "    </tr>\n",
       "    <tr>\n",
       "      <th>5</th>\n",
       "      <td>56642</td>\n",
       "    </tr>\n",
       "    <tr>\n",
       "      <th>6</th>\n",
       "      <td>60150</td>\n",
       "    </tr>\n",
       "    <tr>\n",
       "      <th>7</th>\n",
       "      <td>54445</td>\n",
       "    </tr>\n",
       "    <tr>\n",
       "      <th>8</th>\n",
       "      <td>64445</td>\n",
       "    </tr>\n",
       "    <tr>\n",
       "      <th>9</th>\n",
       "      <td>57189</td>\n",
       "    </tr>\n",
       "    <tr>\n",
       "      <th>10</th>\n",
       "      <td>63218</td>\n",
       "    </tr>\n",
       "    <tr>\n",
       "      <th>11</th>\n",
       "      <td>55794</td>\n",
       "    </tr>\n",
       "    <tr>\n",
       "      <th>12</th>\n",
       "      <td>56957</td>\n",
       "    </tr>\n",
       "    <tr>\n",
       "      <th>13</th>\n",
       "      <td>57081</td>\n",
       "    </tr>\n",
       "    <tr>\n",
       "      <th>14</th>\n",
       "      <td>61111</td>\n",
       "    </tr>\n",
       "    <tr>\n",
       "      <th>15</th>\n",
       "      <td>67938</td>\n",
       "    </tr>\n",
       "    <tr>\n",
       "      <th>16</th>\n",
       "      <td>66029</td>\n",
       "    </tr>\n",
       "    <tr>\n",
       "      <th>17</th>\n",
       "      <td>83088</td>\n",
       "    </tr>\n",
       "    <tr>\n",
       "      <th>18</th>\n",
       "      <td>81363</td>\n",
       "    </tr>\n",
       "    <tr>\n",
       "      <th>19</th>\n",
       "      <td>93940</td>\n",
       "    </tr>\n",
       "    <tr>\n",
       "      <th>20</th>\n",
       "      <td>91738</td>\n",
       "    </tr>\n",
       "    <tr>\n",
       "      <th>21</th>\n",
       "      <td>98273</td>\n",
       "    </tr>\n",
       "    <tr>\n",
       "      <th>22</th>\n",
       "      <td>101302</td>\n",
       "    </tr>\n",
       "    <tr>\n",
       "      <th>23</th>\n",
       "      <td>113812</td>\n",
       "    </tr>\n",
       "    <tr>\n",
       "      <th>24</th>\n",
       "      <td>109431</td>\n",
       "    </tr>\n",
       "    <tr>\n",
       "      <th>25</th>\n",
       "      <td>105582</td>\n",
       "    </tr>\n",
       "    <tr>\n",
       "      <th>26</th>\n",
       "      <td>116969</td>\n",
       "    </tr>\n",
       "    <tr>\n",
       "      <th>27</th>\n",
       "      <td>112635</td>\n",
       "    </tr>\n",
       "    <tr>\n",
       "      <th>28</th>\n",
       "      <td>122391</td>\n",
       "    </tr>\n",
       "    <tr>\n",
       "      <th>29</th>\n",
       "      <td>121872</td>\n",
       "    </tr>\n",
       "    <tr>\n",
       "      <th>30</th>\n",
       "      <td>127345</td>\n",
       "    </tr>\n",
       "    <tr>\n",
       "      <th>31</th>\n",
       "      <td>126756</td>\n",
       "    </tr>\n",
       "    <tr>\n",
       "      <th>32</th>\n",
       "      <td>128765</td>\n",
       "    </tr>\n",
       "    <tr>\n",
       "      <th>33</th>\n",
       "      <td>135675</td>\n",
       "    </tr>\n",
       "    <tr>\n",
       "      <th>34</th>\n",
       "      <td>139465</td>\n",
       "    </tr>\n",
       "  </tbody>\n",
       "</table>\n",
       "</div>"
      ],
      "text/plain": [
       "    Salary\n",
       "0    39343\n",
       "1    46205\n",
       "2    37731\n",
       "3    43525\n",
       "4    39891\n",
       "5    56642\n",
       "6    60150\n",
       "7    54445\n",
       "8    64445\n",
       "9    57189\n",
       "10   63218\n",
       "11   55794\n",
       "12   56957\n",
       "13   57081\n",
       "14   61111\n",
       "15   67938\n",
       "16   66029\n",
       "17   83088\n",
       "18   81363\n",
       "19   93940\n",
       "20   91738\n",
       "21   98273\n",
       "22  101302\n",
       "23  113812\n",
       "24  109431\n",
       "25  105582\n",
       "26  116969\n",
       "27  112635\n",
       "28  122391\n",
       "29  121872\n",
       "30  127345\n",
       "31  126756\n",
       "32  128765\n",
       "33  135675\n",
       "34  139465"
      ]
     },
     "execution_count": 34,
     "metadata": {},
     "output_type": "execute_result"
    }
   ],
   "source": [
    "y # dependent on X"
   ]
  },
  {
   "cell_type": "code",
   "execution_count": 35,
   "metadata": {},
   "outputs": [
    {
     "data": {
      "text/plain": [
       "(35, 1)"
      ]
     },
     "execution_count": 35,
     "metadata": {},
     "output_type": "execute_result"
    }
   ],
   "source": [
    "X.shape #get shape of X(we have 35 samples and in one column)"
   ]
  },
  {
   "cell_type": "code",
   "execution_count": 36,
   "metadata": {},
   "outputs": [
    {
     "data": {
      "text/plain": [
       "(35, 1)"
      ]
     },
     "execution_count": 36,
     "metadata": {},
     "output_type": "execute_result"
    }
   ],
   "source": [
    "y.shape #get shape of y(we have 35 samples and in one column)"
   ]
  },
  {
   "cell_type": "code",
   "execution_count": 37,
   "metadata": {},
   "outputs": [],
   "source": [
    "#Converting X and y to the numpy array and set data type=float32, BCZ to learn leaner learner we need data to be in float32 formate\n",
    "X=np.array(X).astype(\"float32\")\n",
    "y=np.array(y).astype(\"float32\")"
   ]
  },
  {
   "cell_type": "code",
   "execution_count": 38,
   "metadata": {},
   "outputs": [
    {
     "data": {
      "text/plain": [
       "array([[ 1.1],\n",
       "       [ 1.3],\n",
       "       [ 1.5],\n",
       "       [ 2. ],\n",
       "       [ 2.2],\n",
       "       [ 2.9],\n",
       "       [ 3. ],\n",
       "       [ 3.2],\n",
       "       [ 3.2],\n",
       "       [ 3.7],\n",
       "       [ 3.9],\n",
       "       [ 4. ],\n",
       "       [ 4. ],\n",
       "       [ 4.1],\n",
       "       [ 4.5],\n",
       "       [ 4.9],\n",
       "       [ 5.1],\n",
       "       [ 5.3],\n",
       "       [ 5.9],\n",
       "       [ 6. ],\n",
       "       [ 6.8],\n",
       "       [ 7.1],\n",
       "       [ 7.9],\n",
       "       [ 8.2],\n",
       "       [ 8.7],\n",
       "       [ 9. ],\n",
       "       [ 9.5],\n",
       "       [ 9.6],\n",
       "       [10.3],\n",
       "       [10.5],\n",
       "       [11.2],\n",
       "       [11.5],\n",
       "       [12.3],\n",
       "       [12.9],\n",
       "       [13.5]], dtype=float32)"
      ]
     },
     "execution_count": 38,
     "metadata": {},
     "output_type": "execute_result"
    }
   ],
   "source": [
    "X"
   ]
  },
  {
   "cell_type": "code",
   "execution_count": 39,
   "metadata": {},
   "outputs": [
    {
     "data": {
      "text/plain": [
       "array([[ 39343.],\n",
       "       [ 46205.],\n",
       "       [ 37731.],\n",
       "       [ 43525.],\n",
       "       [ 39891.],\n",
       "       [ 56642.],\n",
       "       [ 60150.],\n",
       "       [ 54445.],\n",
       "       [ 64445.],\n",
       "       [ 57189.],\n",
       "       [ 63218.],\n",
       "       [ 55794.],\n",
       "       [ 56957.],\n",
       "       [ 57081.],\n",
       "       [ 61111.],\n",
       "       [ 67938.],\n",
       "       [ 66029.],\n",
       "       [ 83088.],\n",
       "       [ 81363.],\n",
       "       [ 93940.],\n",
       "       [ 91738.],\n",
       "       [ 98273.],\n",
       "       [101302.],\n",
       "       [113812.],\n",
       "       [109431.],\n",
       "       [105582.],\n",
       "       [116969.],\n",
       "       [112635.],\n",
       "       [122391.],\n",
       "       [121872.],\n",
       "       [127345.],\n",
       "       [126756.],\n",
       "       [128765.],\n",
       "       [135675.],\n",
       "       [139465.]], dtype=float32)"
      ]
     },
     "execution_count": 39,
     "metadata": {},
     "output_type": "execute_result"
    }
   ],
   "source": [
    "y"
   ]
  },
  {
   "cell_type": "code",
   "execution_count": 40,
   "metadata": {},
   "outputs": [],
   "source": [
    "#split data into training data and testing data.\n",
    "from sklearn.model_selection import train_test_split\n",
    "X_train, X_test, y_train, y_test = train_test_split(X, y, test_size=0.2)\n",
    "#0.2 indicate that we need a 20% of data for testing"
   ]
  },
  {
   "cell_type": "code",
   "execution_count": 41,
   "metadata": {},
   "outputs": [],
   "source": [
    "#Splitting data into 75% for training and rest is for testing.\n",
    "X_train, X_test, y_train, y_test = train_test_split(X, y, test_size=0.25)"
   ]
  },
  {
   "cell_type": "code",
   "execution_count": 42,
   "metadata": {},
   "outputs": [
    {
     "data": {
      "text/plain": [
       "(26, 1)"
      ]
     },
     "execution_count": 42,
     "metadata": {},
     "output_type": "execute_result"
    }
   ],
   "source": [
    "X_train.shape"
   ]
  },
  {
   "cell_type": "code",
   "execution_count": 43,
   "metadata": {},
   "outputs": [
    {
     "data": {
      "text/plain": [
       "(9, 1)"
      ]
     },
     "execution_count": 43,
     "metadata": {},
     "output_type": "execute_result"
    }
   ],
   "source": [
    "X_test.shape"
   ]
  },
  {
   "cell_type": "code",
   "execution_count": 44,
   "metadata": {},
   "outputs": [
    {
     "data": {
      "text/plain": [
       "array([[ 3.2],\n",
       "       [ 2.2],\n",
       "       [ 3.2],\n",
       "       [ 5.3],\n",
       "       [ 3.7],\n",
       "       [ 9. ],\n",
       "       [ 4.5],\n",
       "       [ 5.1],\n",
       "       [ 4. ],\n",
       "       [ 3. ],\n",
       "       [ 1.5],\n",
       "       [ 1.1],\n",
       "       [ 4. ],\n",
       "       [ 5.9],\n",
       "       [ 8.7],\n",
       "       [ 4.9],\n",
       "       [ 2. ],\n",
       "       [ 9.5],\n",
       "       [11.2],\n",
       "       [ 7.9],\n",
       "       [ 2.9],\n",
       "       [ 9.6],\n",
       "       [ 3.9],\n",
       "       [ 8.2],\n",
       "       [ 1.3],\n",
       "       [10.3]], dtype=float32)"
      ]
     },
     "execution_count": 44,
     "metadata": {},
     "output_type": "execute_result"
    }
   ],
   "source": [
    "#Here we observed that as we split the data, it also shuffle the data as well\n",
    "X_train"
   ]
  },
  {
   "cell_type": "code",
   "execution_count": 45,
   "metadata": {},
   "outputs": [
    {
     "data": {
      "text/plain": [
       "array([[11.5],\n",
       "       [12.9],\n",
       "       [ 4.1],\n",
       "       [10.5],\n",
       "       [ 7.1],\n",
       "       [13.5],\n",
       "       [ 6. ],\n",
       "       [ 6.8],\n",
       "       [12.3]], dtype=float32)"
      ]
     },
     "execution_count": 45,
     "metadata": {},
     "output_type": "execute_result"
    }
   ],
   "source": [
    "X_test"
   ]
  },
  {
   "cell_type": "code",
   "execution_count": 46,
   "metadata": {},
   "outputs": [
    {
     "data": {
      "text/plain": [
       "LinearRegression(copy_X=True, fit_intercept=True, n_jobs=None, normalize=False)"
      ]
     },
     "execution_count": 46,
     "metadata": {},
     "output_type": "execute_result"
    }
   ],
   "source": [
    "#using linear regression model\n",
    "from sklearn.linear_model import LinearRegression\n",
    "from sklearn.metrics import mean_squared_error, accuracy_score # For optimization\n",
    "\n",
    "#fitting the linear regression algorithm/model\n",
    "#initialize the obj \n",
    "regression_model_sklearn = LinearRegression(fit_intercept = True)\n",
    "#Apply fit on aour object and feed the input and output data\n",
    "regression_model_sklearn.fit(X_train, y_train)"
   ]
  },
  {
   "cell_type": "code",
   "execution_count": 47,
   "metadata": {},
   "outputs": [
    {
     "data": {
      "text/plain": [
       "0.8854103882108468"
      ]
     },
     "execution_count": 47,
     "metadata": {},
     "output_type": "execute_result"
    }
   ],
   "source": [
    "#evaluating our model on testing data and predicting the accuracy\n",
    "regression_model_sklearn_accuracy = regression_model_sklearn.score(X_test,y_test)\n",
    "regression_model_sklearn_accuracy"
   ]
  },
  {
   "cell_type": "code",
   "execution_count": 48,
   "metadata": {},
   "outputs": [
    {
     "name": "stdout",
     "output_type": "stream",
     "text": [
      "m= [[9283.485]]\n",
      "b= [26194.176]\n"
     ]
    }
   ],
   "source": [
    "#The aim is to get the straight line in this model, for that we need b(intercept) and m(coefficiect)\n",
    "print(\"m=\",regression_model_sklearn.coef_)\n",
    "print(\"b=\",regression_model_sklearn.intercept_)"
   ]
  },
  {
   "cell_type": "code",
   "execution_count": 49,
   "metadata": {},
   "outputs": [
    {
     "data": {
      "text/plain": [
       "LinearRegression(copy_X=True, fit_intercept=False, n_jobs=None, normalize=False)"
      ]
     },
     "execution_count": 49,
     "metadata": {},
     "output_type": "execute_result"
    }
   ],
   "source": [
    "#Retraining the model by setting the fit_intercept=False\n",
    "regression_model_sklearn_false = LinearRegression(fit_intercept = False)\n",
    "regression_model_sklearn_false.fit(X_train, y_train)\n"
   ]
  },
  {
   "cell_type": "code",
   "execution_count": 50,
   "metadata": {},
   "outputs": [
    {
     "data": {
      "text/plain": [
       "0.8854103882108468"
      ]
     },
     "execution_count": 50,
     "metadata": {},
     "output_type": "execute_result"
    }
   ],
   "source": [
    "regression_model_sklearn_accuracy_false = regression_model_sklearn.score(X_test,y_test)\n",
    "regression_model_sklearn_accuracy_false\n"
   ]
  },
  {
   "cell_type": "code",
   "execution_count": 51,
   "metadata": {},
   "outputs": [
    {
     "name": "stdout",
     "output_type": "stream",
     "text": [
      "m= [[13051.098]]\n",
      "b= 0.0\n"
     ]
    }
   ],
   "source": [
    "print(\"m=\",regression_model_sklearn_false.coef_)\n",
    "print(\"b=\",regression_model_sklearn_false.intercept_)\n",
    "#we get the intercept is 0,, so line has to pass through the center, amd m val also changes."
   ]
  },
  {
   "cell_type": "code",
   "execution_count": 52,
   "metadata": {},
   "outputs": [
    {
     "data": {
      "text/plain": [
       "array([[132954.25 ],\n",
       "       [145951.14 ],\n",
       "       [ 64256.465],\n",
       "       [123670.766],\n",
       "       [ 92106.92 ],\n",
       "       [151521.23 ],\n",
       "       [ 81895.09 ],\n",
       "       [ 89321.875],\n",
       "       [140381.05 ]], dtype=float32)"
      ]
     },
     "execution_count": 52,
     "metadata": {},
     "output_type": "execute_result"
    }
   ],
   "source": [
    "#EVALUATING TRAINED MODEL ON TESTING DATA\n",
    "#predict(): function is used to predict the output y_test based on the values of x_test()\n",
    "y_predict = regression_model_sklearn.predict(X_test)\n",
    "y_predict # salary of the employee based on the year of experience"
   ]
  },
  {
   "cell_type": "code",
   "execution_count": 53,
   "metadata": {},
   "outputs": [
    {
     "data": {
      "text/plain": [
       "Text(0.5, 0, 'Number of Years of Experience')"
      ]
     },
     "execution_count": 53,
     "metadata": {},
     "output_type": "execute_result"
    },
    {
     "data": {
      "image/png": "[encoded data removed]",
      "text/plain": [
       "<Figure size 432x288 with 1 Axes>"
      ]
     },
     "metadata": {
      "needs_background": "light"
     },
     "output_type": "display_data"
    }
   ],
   "source": [
    "#visualization on training data\n",
    "# 1.plot a data pionts\n",
    "plt.scatter(X_train, y_train, color='grey')\n",
    "\n",
    "# 2.plot straight line between X_train and y_train=predict(X_train)\n",
    "plt.plot(X_train, regression_model_sklearn.predict(X_train), color='red')\n",
    "\n",
    "# 3. labeling\n",
    "plt.ylabel(\"Salary\")\n",
    "plt.xlabel(\"Number of Years of Experience\")"
   ]
  },
  {
   "cell_type": "code",
   "execution_count": 54,
   "metadata": {},
   "outputs": [
    {
     "data": {
      "text/plain": [
       "array([[72611.60253906]])"
      ]
     },
     "execution_count": 54,
     "metadata": {},
     "output_type": "execute_result"
    }
   ],
   "source": [
    "#predict the salary for employe having the year of experience = 5\n",
    "num_years_exp = [[5]]\n",
    "y_train1=regression_model_sklearn.predict(num_years_exp)\n",
    "y_train1"
   ]
  },
  {
   "cell_type": "code",
   "execution_count": 55,
   "metadata": {},
   "outputs": [
    {
     "data": {
      "text/plain": [
       "'arn:aws:iam::197387643677:role/service-role/AmazonSageMaker-ExecutionRole-20211226T225693'"
      ]
     },
     "execution_count": 55,
     "metadata": {},
     "output_type": "execute_result"
    }
   ],
   "source": [
    "                                      #TRAIN A LINEAR LEARNER MODEL USING SAGEMAKER\n",
    "\n",
    "#boto3:: Is the AWS Sofware Development Kit(SDK) for python,\n",
    "#It allows python developer to write a software , that is used to interface with AWS sucah as S3, EC2 and etc,.\n",
    "\n",
    "import sagemaker\n",
    "import boto3\n",
    "\n",
    "#create a sagemaker session.\n",
    "sagemaker_session = sagemaker.Session()\n",
    "\n",
    "#define the S3 bucket and the prefix that we want in this session.\n",
    "bucket = 'amazon-sagemaker-projects' #create bucket before specifing the name of bucket here.\n",
    "prefix = 'linear_learner' #Is the sub folder within the bucket.\n",
    "\n",
    "#execution role for the instance, this is created when we created the instance. That we need to pass when we train the model.\n",
    "role = sagemaker.get_execution_role()\n",
    "role"
   ]
  },
  {
   "cell_type": "code",
   "execution_count": 56,
   "metadata": {},
   "outputs": [
    {
     "data": {
      "text/plain": [
       "(26, 1)"
      ]
     },
     "execution_count": 56,
     "metadata": {},
     "output_type": "execute_result"
    }
   ],
   "source": [
    "X_train.shape"
   ]
  },
  {
   "cell_type": "code",
   "execution_count": 57,
   "metadata": {},
   "outputs": [
    {
     "data": {
      "text/plain": [
       "array([ 64445.,  39891.,  54445.,  83088.,  57189., 105582.,  61111.,\n",
       "        66029.,  56957.,  60150.,  37731.,  39343.,  55794.,  81363.,\n",
       "       109431.,  67938.,  43525., 116969., 127345., 101302.,  56642.,\n",
       "       112635.,  63218., 113812.,  46205., 122391.], dtype=float32)"
      ]
     },
     "execution_count": 57,
     "metadata": {},
     "output_type": "execute_result"
    }
   ],
   "source": [
    "y_train = y_train[:,0]\n",
    "y_train"
   ]
  },
  {
   "cell_type": "code",
   "execution_count": 58,
   "metadata": {},
   "outputs": [
    {
     "data": {
      "text/plain": [
       "0"
      ]
     },
     "execution_count": 58,
     "metadata": {},
     "output_type": "execute_result"
    }
   ],
   "source": [
    "import io #This module allows for dealing with various types of I/O (text I/O, binary I/O and raw I/O)\n",
    "import numpy as np\n",
    "import sagemaker.amazon.common as smac#sagemaker common librery\n",
    "\n",
    "#code below is used to convert the data in numpy array formate to RecordIO formate.\n",
    "#This is the formate required by Sagemaker Linear Learner.\n",
    "\n",
    "buf = io.BytesIO() # create an inmemory byte array ( buf is a buffer )\n",
    "smac.write_numpy_to_dense_tensor(buf, X_train, y_train)\n",
    "buf.seek(0)\n",
    "# when we write to in-memory byte arrays, it increment by 1 every time we write to it.\n",
    "# So we reset counter pointer back to 0."
   ]
  },
  {
   "cell_type": "code",
   "execution_count": 59,
   "metadata": {},
   "outputs": [
    {
     "name": "stdout",
     "output_type": "stream",
     "text": [
      "Training data location: s3://amazon-sagemaker-projects/linear_learner/train/linear-train-data\n"
     ]
    }
   ],
   "source": [
    "import os\n",
    "\n",
    "# code to upload RecordIO data to s3\n",
    "\n",
    "#key refers to name of the file. where we are storing our actual data. which is present in the 'buf'.\n",
    "key = 'linear-train-data'\n",
    "\n",
    "#this code uploads the data in RecordIO formate into S3 bucket, to be accesed later for training model.\n",
    "boto3.resource('s3').Bucket(bucket).Object(os.path.join(prefix, 'train', key)).upload_fileobj(buf)\n",
    "\n",
    "# print out the training data location\n",
    "s3_train_data = 's3://{}/{}/train/{}'.format(bucket, prefix, key)\n",
    "print('Training data location: {}'.format(s3_train_data))"
   ]
  },
  {
   "cell_type": "code",
   "execution_count": 60,
   "metadata": {},
   "outputs": [
    {
     "data": {
      "text/plain": [
       "(9, 1)"
      ]
     },
     "execution_count": 60,
     "metadata": {},
     "output_type": "execute_result"
    }
   ],
   "source": [
    "X_test.shape"
   ]
  },
  {
   "cell_type": "code",
   "execution_count": 61,
   "metadata": {},
   "outputs": [
    {
     "data": {
      "text/plain": [
       "(9, 1)"
      ]
     },
     "execution_count": 61,
     "metadata": {},
     "output_type": "execute_result"
    }
   ],
   "source": [
    "y_test.shape"
   ]
  },
  {
   "cell_type": "code",
   "execution_count": 62,
   "metadata": {},
   "outputs": [],
   "source": [
    "y_test = y_test[:,0]"
   ]
  },
  {
   "cell_type": "code",
   "execution_count": 63,
   "metadata": {},
   "outputs": [
    {
     "data": {
      "text/plain": [
       "array([126756., 135675.,  57081., 121872.,  98273., 139465.,  93940.,\n",
       "        91738., 128765.], dtype=float32)"
      ]
     },
     "execution_count": 63,
     "metadata": {},
     "output_type": "execute_result"
    }
   ],
   "source": [
    "y_test"
   ]
  },
  {
   "cell_type": "code",
   "execution_count": 64,
   "metadata": {},
   "outputs": [
    {
     "data": {
      "text/plain": [
       "(9,)"
      ]
     },
     "execution_count": 64,
     "metadata": {},
     "output_type": "execute_result"
    }
   ],
   "source": [
    "y_test.shape"
   ]
  },
  {
   "cell_type": "code",
   "execution_count": 65,
   "metadata": {},
   "outputs": [
    {
     "name": "stdout",
     "output_type": "stream",
     "text": [
      "Training artifacts will be uploaded to: s3://amazon-sagemaker-projects/linear_learner/output\n"
     ]
    }
   ],
   "source": [
    "# create a output placeholder in s3 bucket to store the linear learner output.\n",
    "output_location = 's3://{}/{}/output'.format(bucket,prefix)\n",
    "print(\"Training artifacts will be uploaded to: {}\".format(output_location))"
   ]
  },
  {
   "cell_type": "code",
   "execution_count": 66,
   "metadata": {},
   "outputs": [],
   "source": [
    "# obtain a reference to the linearlearner container image.\n",
    "# this code is use dto get the training container of sagemaker built-in algorithms.\n",
    "# simply specify the name of the algorithm that we want to use.\n",
    "\n",
    "# All regression models are named as Estimator.\n",
    "# we don't have to specify(hardcode) the region, get_image_uri ge the current region name using the algorithm what we have specified.\n",
    "\n",
    "from sagemaker.amazon.amazon_estimator import image_uris\n",
    "container = image_uris.retrieve(region=boto3.Session().region_name, framework='linear-learner')"
   ]
  },
  {
   "cell_type": "code",
   "execution_count": 67,
   "metadata": {},
   "outputs": [
    {
     "name": "stdout",
     "output_type": "stream",
     "text": [
      "2021-12-28 14:04:29 Starting - Starting the training job...\n",
      "2021-12-28 14:04:54 Starting - Launching requested ML instancesProfilerReport-1640700269: InProgress\n",
      "......\n",
      "2021-12-28 14:05:54 Starting - Preparing the instances for training.........\n",
      "2021-12-28 14:07:14 Downloading - Downloading input data...\n",
      "2021-12-28 14:07:55 Training - Downloading the training image..\u001b[34mDocker entrypoint called with argument(s): train\u001b[0m\n",
      "\u001b[34mRunning default environment configuration script\u001b[0m\n",
      "\u001b[34m[12/28/2021 14:08:13 INFO 140446915331904] Reading default configuration from /opt/amazon/lib/python3.7/site-packages/algorithm/resources/default-input.json: {'mini_batch_size': '1000', 'epochs': '15', 'feature_dim': 'auto', 'use_bias': 'true', 'binary_classifier_model_selection_criteria': 'accuracy', 'f_beta': '1.0', 'target_recall': '0.8', 'target_precision': '0.8', 'num_models': 'auto', 'num_calibration_samples': '10000000', 'init_method': 'uniform', 'init_scale': '0.07', 'init_sigma': '0.01', 'init_bias': '0.0', 'optimizer': 'auto', 'loss': 'auto', 'margin': '1.0', 'quantile': '0.5', 'loss_insensitivity': '0.01', 'huber_delta': '1.0', 'num_classes': '1', 'accuracy_top_k': '3', 'wd': 'auto', 'l1': 'auto', 'momentum': 'auto', 'learning_rate': 'auto', 'beta_1': 'auto', 'beta_2': 'auto', 'bias_lr_mult': 'auto', 'bias_wd_mult': 'auto', 'use_lr_scheduler': 'true', 'lr_scheduler_step': 'auto', 'lr_scheduler_factor': 'auto', 'lr_scheduler_minimum_lr': 'auto', 'positive_example_weight_mult': '1.0', 'balance_multiclass_weights': 'false', 'normalize_data': 'true', 'normalize_label': 'auto', 'unbias_data': 'auto', 'unbias_label': 'auto', 'num_point_for_scaler': '10000', '_kvstore': 'auto', '_num_gpus': 'auto', '_num_kv_servers': 'auto', '_log_level': 'info', '_tuning_objective_metric': '', 'early_stopping_patience': '3', 'early_stopping_tolerance': '0.001', '_enable_profiler': 'false'}\u001b[0m\n",
      "\u001b[34m[12/28/2021 14:08:13 INFO 140446915331904] Merging with provided configuration from /opt/ml/input/config/hyperparameters.json: {'loss': 'absolute_loss', 'feature_dim': '1', 'num_models': '32', 'predictor_type': 'regressor', 'epochs': '5', 'mini_batch_size': '5'}\u001b[0m\n",
      "\u001b[34m[12/28/2021 14:08:13 INFO 140446915331904] Final configuration: {'mini_batch_size': '5', 'epochs': '5', 'feature_dim': '1', 'use_bias': 'true', 'binary_classifier_model_selection_criteria': 'accuracy', 'f_beta': '1.0', 'target_recall': '0.8', 'target_precision': '0.8', 'num_models': '32', 'num_calibration_samples': '10000000', 'init_method': 'uniform', 'init_scale': '0.07', 'init_sigma': '0.01', 'init_bias': '0.0', 'optimizer': 'auto', 'loss': 'absolute_loss', 'margin': '1.0', 'quantile': '0.5', 'loss_insensitivity': '0.01', 'huber_delta': '1.0', 'num_classes': '1', 'accuracy_top_k': '3', 'wd': 'auto', 'l1': 'auto', 'momentum': 'auto', 'learning_rate': 'auto', 'beta_1': 'auto', 'beta_2': 'auto', 'bias_lr_mult': 'auto', 'bias_wd_mult': 'auto', 'use_lr_scheduler': 'true', 'lr_scheduler_step': 'auto', 'lr_scheduler_factor': 'auto', 'lr_scheduler_minimum_lr': 'auto', 'positive_example_weight_mult': '1.0', 'balance_multiclass_weights': 'false', 'normalize_data': 'true', 'normalize_label': 'auto', 'unbias_data': 'auto', 'unbias_label': 'auto', 'num_point_for_scaler': '10000', '_kvstore': 'auto', '_num_gpus': 'auto', '_num_kv_servers': 'auto', '_log_level': 'info', '_tuning_objective_metric': '', 'early_stopping_patience': '3', 'early_stopping_tolerance': '0.001', '_enable_profiler': 'false', 'predictor_type': 'regressor'}\u001b[0m\n",
      "\u001b[34m[12/28/2021 14:08:13 WARNING 140446915331904] Loggers have already been setup.\u001b[0m\n",
      "\u001b[34mProcess 1 is a worker.\u001b[0m\n",
      "\u001b[34m[12/28/2021 14:08:13 INFO 140446915331904] Using default worker.\u001b[0m\n",
      "\u001b[34m[12/28/2021 14:08:14 INFO 140446915331904] Checkpoint loading and saving are disabled.\u001b[0m\n",
      "\u001b[34m[2021-12-28 14:08:14.089] [tensorio] [info] epoch_stats={\"data_pipeline\": \"/opt/ml/input/data/train\", \"epoch\": 0, \"duration\": 13, \"num_examples\": 1, \"num_bytes\": 240}\u001b[0m\n",
      "\u001b[34m[12/28/2021 14:08:14 INFO 140446915331904] Create Store: local\u001b[0m\n",
      "\u001b[34m[2021-12-28 14:08:14.145] [tensorio] [info] epoch_stats={\"data_pipeline\": \"/opt/ml/input/data/train\", \"epoch\": 1, \"duration\": 55, \"num_examples\": 6, \"num_bytes\": 1248}\u001b[0m\n",
      "\u001b[34m[12/28/2021 14:08:14 INFO 140446915331904] Scaler algorithm parameters\n",
      " <algorithm.scaler.ScalerAlgorithmStable object at 0x7fbc00962c90>\u001b[0m\n",
      "\u001b[34m[12/28/2021 14:08:14 INFO 140446915331904] Scaling model computed with parameters:\n",
      " {'stdev_label': \u001b[0m\n",
      "\u001b[34m[27209.477]\u001b[0m\n",
      "\u001b[34m<NDArray 1 @cpu(0)>, 'stdev_weight': \u001b[0m\n",
      "\u001b[34m[2.878294]\u001b[0m\n",
      "\u001b[34m<NDArray 1 @cpu(0)>, 'mean_label': \u001b[0m\n",
      "\u001b[34m[72885.6]\u001b[0m\n",
      "\u001b[34m<NDArray 1 @cpu(0)>, 'mean_weight': \u001b[0m\n",
      "\u001b[34m[5.032]\u001b[0m\n",
      "\u001b[34m<NDArray 1 @cpu(0)>}\u001b[0m\n",
      "\u001b[34m[12/28/2021 14:08:14 INFO 140446915331904] nvidia-smi: took 0.030 seconds to run.\u001b[0m\n",
      "\u001b[34m[12/28/2021 14:08:14 INFO 140446915331904] nvidia-smi identified 0 GPUs.\u001b[0m\n",
      "\u001b[34m[12/28/2021 14:08:14 INFO 140446915331904] Number of GPUs being used: 0\u001b[0m\n",
      "\u001b[34m#metrics {\"StartTime\": 1640700494.251607, \"EndTime\": 1640700494.2516563, \"Dimensions\": {\"Algorithm\": \"Linear Learner\", \"Host\": \"algo-1\", \"Operation\": \"training\", \"Meta\": \"init_train_data_iter\"}, \"Metrics\": {\"Total Records Seen\": {\"sum\": 31.0, \"count\": 1, \"min\": 31, \"max\": 31}, \"Total Batches Seen\": {\"sum\": 7.0, \"count\": 1, \"min\": 7, \"max\": 7}, \"Max Records Seen Between Resets\": {\"sum\": 26.0, \"count\": 1, \"min\": 26, \"max\": 26}, \"Max Batches Seen Between Resets\": {\"sum\": 6.0, \"count\": 1, \"min\": 6, \"max\": 6}, \"Reset Count\": {\"sum\": 2.0, \"count\": 1, \"min\": 2, \"max\": 2}, \"Number of Records Since Last Reset\": {\"sum\": 0.0, \"count\": 1, \"min\": 0, \"max\": 0}, \"Number of Batches Since Last Reset\": {\"sum\": 0.0, \"count\": 1, \"min\": 0, \"max\": 0}}}\u001b[0m\n",
      "\u001b[34m[2021-12-28 14:08:14.361] [tensorio] [info] epoch_stats={\"data_pipeline\": \"/opt/ml/input/data/train\", \"epoch\": 4, \"duration\": 109, \"num_examples\": 6, \"num_bytes\": 1248}\u001b[0m\n",
      "\u001b[34m#metrics {\"StartTime\": 1640700494.3613372, \"EndTime\": 1640700494.361424, \"Dimensions\": {\"Algorithm\": \"Linear Learner\", \"Host\": \"algo-1\", \"Operation\": \"training\", \"epoch\": 0, \"model\": 0}, \"Metrics\": {\"train_absolute_loss_objective\": {\"sum\": 0.842260971069336, \"count\": 1, \"min\": 0.842260971069336, \"max\": 0.842260971069336}}}\u001b[0m\n",
      "\u001b[34m#metrics {\"StartTime\": 1640700494.3614988, \"EndTime\": 1640700494.361543, \"Dimensions\": {\"Algorithm\": \"Linear Learner\", \"Host\": \"algo-1\", \"Operation\": \"training\", \"epoch\": 0, \"model\": 1}, \"Metrics\": {\"train_absolute_loss_objective\": {\"sum\": 0.8614637374877929, \"count\": 1, \"min\": 0.8614637374877929, \"max\": 0.8614637374877929}}}\u001b[0m\n",
      "\u001b[34m#metrics {\"StartTime\": 1640700494.3615932, \"EndTime\": 1640700494.36161, \"Dimensions\": {\"Algorithm\": \"Linear Learner\", \"Host\": \"algo-1\", \"Operation\": \"training\", \"epoch\": 0, \"model\": 2}, \"Metrics\": {\"train_absolute_loss_objective\": {\"sum\": 0.8445871448516846, \"count\": 1, \"min\": 0.8445871448516846, \"max\": 0.8445871448516846}}}\u001b[0m\n",
      "\u001b[34m#metrics {\"StartTime\": 1640700494.3616614, \"EndTime\": 1640700494.3616776, \"Dimensions\": {\"Algorithm\": \"Linear Learner\", \"Host\": \"algo-1\", \"Operation\": \"training\", \"epoch\": 0, \"model\": 3}, \"Metrics\": {\"train_absolute_loss_objective\": {\"sum\": 0.8604823970794677, \"count\": 1, \"min\": 0.8604823970794677, \"max\": 0.8604823970794677}}}\u001b[0m\n",
      "\u001b[34m#metrics {\"StartTime\": 1640700494.361723, \"EndTime\": 1640700494.361734, \"Dimensions\": {\"Algorithm\": \"Linear Learner\", \"Host\": \"algo-1\", \"Operation\": \"training\", \"epoch\": 0, \"model\": 4}, \"Metrics\": {\"train_absolute_loss_objective\": {\"sum\": 0.7465279960632324, \"count\": 1, \"min\": 0.7465279960632324, \"max\": 0.7465279960632324}}}\u001b[0m\n",
      "\u001b[34m#metrics {\"StartTime\": 1640700494.3617818, \"EndTime\": 1640700494.3617973, \"Dimensions\": {\"Algorithm\": \"Linear Learner\", \"Host\": \"algo-1\", \"Operation\": \"training\", \"epoch\": 0, \"model\": 5}, \"Metrics\": {\"train_absolute_loss_objective\": {\"sum\": 0.7553476810455322, \"count\": 1, \"min\": 0.7553476810455322, \"max\": 0.7553476810455322}}}\u001b[0m\n",
      "\u001b[34m#metrics {\"StartTime\": 1640700494.361842, \"EndTime\": 1640700494.361858, \"Dimensions\": {\"Algorithm\": \"Linear Learner\", \"Host\": \"algo-1\", \"Operation\": \"training\", \"epoch\": 0, \"model\": 6}, \"Metrics\": {\"train_absolute_loss_objective\": {\"sum\": 0.8307224655151367, \"count\": 1, \"min\": 0.8307224655151367, \"max\": 0.8307224655151367}}}\u001b[0m\n",
      "\u001b[34m#metrics {\"StartTime\": 1640700494.3619013, \"EndTime\": 1640700494.3619163, \"Dimensions\": {\"Algorithm\": \"Linear Learner\", \"Host\": \"algo-1\", \"Operation\": \"training\", \"epoch\": 0, \"model\": 7}, \"Metrics\": {\"train_absolute_loss_objective\": {\"sum\": 0.8044797229766846, \"count\": 1, \"min\": 0.8044797229766846, \"max\": 0.8044797229766846}}}\u001b[0m\n",
      "\u001b[34m#metrics {\"StartTime\": 1640700494.3619635, \"EndTime\": 1640700494.361978, \"Dimensions\": {\"Algorithm\": \"Linear Learner\", \"Host\": \"algo-1\", \"Operation\": \"training\", \"epoch\": 0, \"model\": 8}, \"Metrics\": {\"train_absolute_loss_objective\": {\"sum\": 0.8961774826049804, \"count\": 1, \"min\": 0.8961774826049804, \"max\": 0.8961774826049804}}}\u001b[0m\n",
      "\u001b[34m#metrics {\"StartTime\": 1640700494.3620267, \"EndTime\": 1640700494.3620412, \"Dimensions\": {\"Algorithm\": \"Linear Learner\", \"Host\": \"algo-1\", \"Operation\": \"training\", \"epoch\": 0, \"model\": 9}, \"Metrics\": {\"train_absolute_loss_objective\": {\"sum\": 0.8306577205657959, \"count\": 1, \"min\": 0.8306577205657959, \"max\": 0.8306577205657959}}}\u001b[0m\n",
      "\u001b[34m#metrics {\"StartTime\": 1640700494.3620892, \"EndTime\": 1640700494.3621008, \"Dimensions\": {\"Algorithm\": \"Linear Learner\", \"Host\": \"algo-1\", \"Operation\": \"training\", \"epoch\": 0, \"model\": 10}, \"Metrics\": {\"train_absolute_loss_objective\": {\"sum\": 0.8371189498901367, \"count\": 1, \"min\": 0.8371189498901367, \"max\": 0.8371189498901367}}}\u001b[0m\n",
      "\u001b[34m#metrics {\"StartTime\": 1640700494.3621502, \"EndTime\": 1640700494.3621662, \"Dimensions\": {\"Algorithm\": \"Linear Learner\", \"Host\": \"algo-1\", \"Operation\": \"training\", \"epoch\": 0, \"model\": 11}, \"Metrics\": {\"train_absolute_loss_objective\": {\"sum\": 0.82283127784729, \"count\": 1, \"min\": 0.82283127784729, \"max\": 0.82283127784729}}}\u001b[0m\n",
      "\u001b[34m#metrics {\"StartTime\": 1640700494.362214, \"EndTime\": 1640700494.3622296, \"Dimensions\": {\"Algorithm\": \"Linear Learner\", \"Host\": \"algo-1\", \"Operation\": \"training\", \"epoch\": 0, \"model\": 12}, \"Metrics\": {\"train_absolute_loss_objective\": {\"sum\": 0.7546882629394531, \"count\": 1, \"min\": 0.7546882629394531, \"max\": 0.7546882629394531}}}\u001b[0m\n",
      "\u001b[34m#metrics {\"StartTime\": 1640700494.3622777, \"EndTime\": 1640700494.362293, \"Dimensions\": {\"Algorithm\": \"Linear Learner\", \"Host\": \"algo-1\", \"Operation\": \"training\", \"epoch\": 0, \"model\": 13}, \"Metrics\": {\"train_absolute_loss_objective\": {\"sum\": 0.7784481143951416, \"count\": 1, \"min\": 0.7784481143951416, \"max\": 0.7784481143951416}}}\u001b[0m\n",
      "\u001b[34m#metrics {\"StartTime\": 1640700494.3623343, \"EndTime\": 1640700494.3623488, \"Dimensions\": {\"Algorithm\": \"Linear Learner\", \"Host\": \"algo-1\", \"Operation\": \"training\", \"epoch\": 0, \"model\": 14}, \"Metrics\": {\"train_absolute_loss_objective\": {\"sum\": 0.7533424091339112, \"count\": 1, \"min\": 0.7533424091339112, \"max\": 0.7533424091339112}}}\u001b[0m\n",
      "\u001b[34m#metrics {\"StartTime\": 1640700494.3623967, \"EndTime\": 1640700494.362411, \"Dimensions\": {\"Algorithm\": \"Linear Learner\", \"Host\": \"algo-1\", \"Operation\": \"training\", \"epoch\": 0, \"model\": 15}, \"Metrics\": {\"train_absolute_loss_objective\": {\"sum\": 0.7841425800323486, \"count\": 1, \"min\": 0.7841425800323486, \"max\": 0.7841425800323486}}}\u001b[0m\n",
      "\u001b[34m#metrics {\"StartTime\": 1640700494.3624618, \"EndTime\": 1640700494.3624783, \"Dimensions\": {\"Algorithm\": \"Linear Learner\", \"Host\": \"algo-1\", \"Operation\": \"training\", \"epoch\": 0, \"model\": 16}, \"Metrics\": {\"train_absolute_loss_objective\": {\"sum\": 0.8074223041534424, \"count\": 1, \"min\": 0.8074223041534424, \"max\": 0.8074223041534424}}}\u001b[0m\n",
      "\u001b[34m#metrics {\"StartTime\": 1640700494.3625271, \"EndTime\": 1640700494.362543, \"Dimensions\": {\"Algorithm\": \"Linear Learner\", \"Host\": \"algo-1\", \"Operation\": \"training\", \"epoch\": 0, \"model\": 17}, \"Metrics\": {\"train_absolute_loss_objective\": {\"sum\": 0.8568747806549072, \"count\": 1, \"min\": 0.8568747806549072, \"max\": 0.8568747806549072}}}\u001b[0m\n",
      "\u001b[34m#metrics {\"StartTime\": 1640700494.3625922, \"EndTime\": 1640700494.362608, \"Dimensions\": {\"Algorithm\": \"Linear Learner\", \"Host\": \"algo-1\", \"Operation\": \"training\", \"epoch\": 0, \"model\": 18}, \"Metrics\": {\"train_absolute_loss_objective\": {\"sum\": 0.8335360050201416, \"count\": 1, \"min\": 0.8335360050201416, \"max\": 0.8335360050201416}}}\u001b[0m\n",
      "\u001b[34m#metrics {\"StartTime\": 1640700494.3626583, \"EndTime\": 1640700494.3626742, \"Dimensions\": {\"Algorithm\": \"Linear Learner\", \"Host\": \"algo-1\", \"Operation\": \"training\", \"epoch\": 0, \"model\": 19}, \"Metrics\": {\"train_absolute_loss_objective\": {\"sum\": 0.8309290981292725, \"count\": 1, \"min\": 0.8309290981292725, \"max\": 0.8309290981292725}}}\u001b[0m\n",
      "\u001b[34m#metrics {\"StartTime\": 1640700494.3627245, \"EndTime\": 1640700494.362741, \"Dimensions\": {\"Algorithm\": \"Linear Learner\", \"Host\": \"algo-1\", \"Operation\": \"training\", \"epoch\": 0, \"model\": 20}, \"Metrics\": {\"train_absolute_loss_objective\": {\"sum\": 0.8050347709655762, \"count\": 1, \"min\": 0.8050347709655762, \"max\": 0.8050347709655762}}}\u001b[0m\n",
      "\u001b[34m#metrics {\"StartTime\": 1640700494.36279, \"EndTime\": 1640700494.3628066, \"Dimensions\": {\"Algorithm\": \"Linear Learner\", \"Host\": \"algo-1\", \"Operation\": \"training\", \"epoch\": 0, \"model\": 21}, \"Metrics\": {\"train_absolute_loss_objective\": {\"sum\": 0.816284875869751, \"count\": 1, \"min\": 0.816284875869751, \"max\": 0.816284875869751}}}\u001b[0m\n",
      "\u001b[34m#metrics {\"StartTime\": 1640700494.3628595, \"EndTime\": 1640700494.362876, \"Dimensions\": {\"Algorithm\": \"Linear Learner\", \"Host\": \"algo-1\", \"Operation\": \"training\", \"epoch\": 0, \"model\": 22}, \"Metrics\": {\"train_absolute_loss_objective\": {\"sum\": 0.770229434967041, \"count\": 1, \"min\": 0.770229434967041, \"max\": 0.770229434967041}}}\u001b[0m\n",
      "\u001b[34m#metrics {\"StartTime\": 1640700494.3629222, \"EndTime\": 1640700494.362938, \"Dimensions\": {\"Algorithm\": \"Linear Learner\", \"Host\": \"algo-1\", \"Operation\": \"training\", \"epoch\": 0, \"model\": 23}, \"Metrics\": {\"train_absolute_loss_objective\": {\"sum\": 0.836120719909668, \"count\": 1, \"min\": 0.836120719909668, \"max\": 0.836120719909668}}}\u001b[0m\n",
      "\u001b[34m#metrics {\"StartTime\": 1640700494.3629847, \"EndTime\": 1640700494.3629992, \"Dimensions\": {\"Algorithm\": \"Linear Learner\", \"Host\": \"algo-1\", \"Operation\": \"training\", \"epoch\": 0, \"model\": 24}, \"Metrics\": {\"train_absolute_loss_objective\": {\"sum\": 0.8134874725341796, \"count\": 1, \"min\": 0.8134874725341796, \"max\": 0.8134874725341796}}}\u001b[0m\n",
      "\u001b[34m#metrics {\"StartTime\": 1640700494.3630419, \"EndTime\": 1640700494.363055, \"Dimensions\": {\"Algorithm\": \"Linear Learner\", \"Host\": \"algo-1\", \"Operation\": \"training\", \"epoch\": 0, \"model\": 25}, \"Metrics\": {\"train_absolute_loss_objective\": {\"sum\": 0.874515552520752, \"count\": 1, \"min\": 0.874515552520752, \"max\": 0.874515552520752}}}\u001b[0m\n",
      "\u001b[34m#metrics {\"StartTime\": 1640700494.3630948, \"EndTime\": 1640700494.3631043, \"Dimensions\": {\"Algorithm\": \"Linear Learner\", \"Host\": \"algo-1\", \"Operation\": \"training\", \"epoch\": 0, \"model\": 26}, \"Metrics\": {\"train_absolute_loss_objective\": {\"sum\": 0.8616626644134522, \"count\": 1, \"min\": 0.8616626644134522, \"max\": 0.8616626644134522}}}\u001b[0m\n",
      "\u001b[34m#metrics {\"StartTime\": 1640700494.3631494, \"EndTime\": 1640700494.363163, \"Dimensions\": {\"Algorithm\": \"Linear Learner\", \"Host\": \"algo-1\", \"Operation\": \"training\", \"epoch\": 0, \"model\": 27}, \"Metrics\": {\"train_absolute_loss_objective\": {\"sum\": 0.8514573860168457, \"count\": 1, \"min\": 0.8514573860168457, \"max\": 0.8514573860168457}}}\u001b[0m\n",
      "\u001b[34m#metrics {\"StartTime\": 1640700494.3632069, \"EndTime\": 1640700494.3632221, \"Dimensions\": {\"Algorithm\": \"Linear Learner\", \"Host\": \"algo-1\", \"Operation\": \"training\", \"epoch\": 0, \"model\": 28}, \"Metrics\": {\"train_absolute_loss_objective\": {\"sum\": 0.9277027511596679, \"count\": 1, \"min\": 0.9277027511596679, \"max\": 0.9277027511596679}}}\u001b[0m\n",
      "\u001b[34m#metrics {\"StartTime\": 1640700494.3632784, \"EndTime\": 1640700494.363294, \"Dimensions\": {\"Algorithm\": \"Linear Learner\", \"Host\": \"algo-1\", \"Operation\": \"training\", \"epoch\": 0, \"model\": 29}, \"Metrics\": {\"train_absolute_loss_objective\": {\"sum\": 0.9294342994689941, \"count\": 1, \"min\": 0.9294342994689941, \"max\": 0.9294342994689941}}}\u001b[0m\n",
      "\u001b[34m#metrics {\"StartTime\": 1640700494.3633351, \"EndTime\": 1640700494.3633492, \"Dimensions\": {\"Algorithm\": \"Linear Learner\", \"Host\": \"algo-1\", \"Operation\": \"training\", \"epoch\": 0, \"model\": 30}, \"Metrics\": {\"train_absolute_loss_objective\": {\"sum\": 0.9593499946594238, \"count\": 1, \"min\": 0.9593499946594238, \"max\": 0.9593499946594238}}}\u001b[0m\n",
      "\u001b[34m#metrics {\"StartTime\": 1640700494.3633814, \"EndTime\": 1640700494.36339, \"Dimensions\": {\"Algorithm\": \"Linear Learner\", \"Host\": \"algo-1\", \"Operation\": \"training\", \"epoch\": 0, \"model\": 31}, \"Metrics\": {\"train_absolute_loss_objective\": {\"sum\": 0.9172142887115479, \"count\": 1, \"min\": 0.9172142887115479, \"max\": 0.9172142887115479}}}\u001b[0m\n",
      "\u001b[34m[12/28/2021 14:08:14 INFO 140446915331904] #quality_metric: host=algo-1, epoch=0, train absolute_loss_objective <loss>=0.842260971069336\u001b[0m\n",
      "\u001b[34m[12/28/2021 14:08:14 INFO 140446915331904] #early_stopping_criteria_metric: host=algo-1, epoch=0, criteria=absolute_loss_objective, value=0.7465279960632324\u001b[0m\n",
      "\u001b[34m[12/28/2021 14:08:14 INFO 140446915331904] Epoch 0: Loss improved. Updating best model\u001b[0m\n",
      "\u001b[34m[12/28/2021 14:08:14 INFO 140446915331904] Saving model for epoch: 0\u001b[0m\n",
      "\u001b[34m[12/28/2021 14:08:14 INFO 140446915331904] Saved checkpoint to \"/tmp/tmppbiypxeh/mx-mod-0000.params\"\u001b[0m\n",
      "\u001b[34m[12/28/2021 14:08:14 INFO 140446915331904] #progress_metric: host=algo-1, completed 20.0 % of epochs\u001b[0m\n",
      "\u001b[34m#metrics {\"StartTime\": 1640700494.2519288, \"EndTime\": 1640700494.3759308, \"Dimensions\": {\"Algorithm\": \"Linear Learner\", \"Host\": \"algo-1\", \"Operation\": \"training\", \"epoch\": 0, \"Meta\": \"training_data_iter\"}, \"Metrics\": {\"Total Records Seen\": {\"sum\": 57.0, \"count\": 1, \"min\": 57, \"max\": 57}, \"Total Batches Seen\": {\"sum\": 13.0, \"count\": 1, \"min\": 13, \"max\": 13}, \"Max Records Seen Between Resets\": {\"sum\": 26.0, \"count\": 1, \"min\": 26, \"max\": 26}, \"Max Batches Seen Between Resets\": {\"sum\": 6.0, \"count\": 1, \"min\": 6, \"max\": 6}, \"Reset Count\": {\"sum\": 3.0, \"count\": 1, \"min\": 3, \"max\": 3}, \"Number of Records Since Last Reset\": {\"sum\": 26.0, \"count\": 1, \"min\": 26, \"max\": 26}, \"Number of Batches Since Last Reset\": {\"sum\": 6.0, \"count\": 1, \"min\": 6, \"max\": 6}}}\u001b[0m\n",
      "\u001b[34m[12/28/2021 14:08:14 INFO 140446915331904] #throughput_metric: host=algo-1, train throughput=209.46183174583052 records/second\u001b[0m\n",
      "\u001b[34m[2021-12-28 14:08:14.467] [tensorio] [info] epoch_stats={\"data_pipeline\": \"/opt/ml/input/data/train\", \"epoch\": 6, \"duration\": 91, \"num_examples\": 6, \"num_bytes\": 1248}\u001b[0m\n",
      "\u001b[34m#metrics {\"StartTime\": 1640700494.4678795, \"EndTime\": 1640700494.4679532, \"Dimensions\": {\"Algorithm\": \"Linear Learner\", \"Host\": \"algo-1\", \"Operation\": \"training\", \"epoch\": 1, \"model\": 0}, \"Metrics\": {\"train_absolute_loss_objective\": {\"sum\": 0.7791010093688965, \"count\": 1, \"min\": 0.7791010093688965, \"max\": 0.7791010093688965}}}\u001b[0m\n",
      "\u001b[34m#metrics {\"StartTime\": 1640700494.468023, \"EndTime\": 1640700494.4680429, \"Dimensions\": {\"Algorithm\": \"Linear Learner\", \"Host\": \"algo-1\", \"Operation\": \"training\", \"epoch\": 1, \"model\": 1}, \"Metrics\": {\"train_absolute_loss_objective\": {\"sum\": 0.7978883743286133, \"count\": 1, \"min\": 0.7978883743286133, \"max\": 0.7978883743286133}}}\u001b[0m\n",
      "\u001b[34m#metrics {\"StartTime\": 1640700494.4681077, \"EndTime\": 1640700494.4681263, \"Dimensions\": {\"Algorithm\": \"Linear Learner\", \"Host\": \"algo-1\", \"Operation\": \"training\", \"epoch\": 1, \"model\": 2}, \"Metrics\": {\"train_absolute_loss_objective\": {\"sum\": 0.7813292026519776, \"count\": 1, \"min\": 0.7813292026519776, \"max\": 0.7813292026519776}}}\u001b[0m\n",
      "\u001b[34m#metrics {\"StartTime\": 1640700494.4681838, \"EndTime\": 1640700494.4681997, \"Dimensions\": {\"Algorithm\": \"Linear Learner\", \"Host\": \"algo-1\", \"Operation\": \"training\", \"epoch\": 1, \"model\": 3}, \"Metrics\": {\"train_absolute_loss_objective\": {\"sum\": 0.7969113540649414, \"count\": 1, \"min\": 0.7969113540649414, \"max\": 0.7969113540649414}}}\u001b[0m\n",
      "\u001b[34m#metrics {\"StartTime\": 1640700494.4682589, \"EndTime\": 1640700494.4682763, \"Dimensions\": {\"Algorithm\": \"Linear Learner\", \"Host\": \"algo-1\", \"Operation\": \"training\", \"epoch\": 1, \"model\": 4}, \"Metrics\": {\"train_absolute_loss_objective\": {\"sum\": 0.5092510890960693, \"count\": 1, \"min\": 0.5092510890960693, \"max\": 0.5092510890960693}}}\u001b[0m\n",
      "\u001b[34m#metrics {\"StartTime\": 1640700494.4683287, \"EndTime\": 1640700494.4683454, \"Dimensions\": {\"Algorithm\": \"Linear Learner\", \"Host\": \"algo-1\", \"Operation\": \"training\", \"epoch\": 1, \"model\": 5}, \"Metrics\": {\"train_absolute_loss_objective\": {\"sum\": 0.501666603088379, \"count\": 1, \"min\": 0.501666603088379, \"max\": 0.501666603088379}}}\u001b[0m\n",
      "\u001b[34m#metrics {\"StartTime\": 1640700494.4683974, \"EndTime\": 1640700494.468414, \"Dimensions\": {\"Algorithm\": \"Linear Learner\", \"Host\": \"algo-1\", \"Operation\": \"training\", \"epoch\": 1, \"model\": 6}, \"Metrics\": {\"train_absolute_loss_objective\": {\"sum\": 0.5664070224761963, \"count\": 1, \"min\": 0.5664070224761963, \"max\": 0.5664070224761963}}}\u001b[0m\n",
      "\u001b[34m#metrics {\"StartTime\": 1640700494.4684672, \"EndTime\": 1640700494.468484, \"Dimensions\": {\"Algorithm\": \"Linear Learner\", \"Host\": \"algo-1\", \"Operation\": \"training\", \"epoch\": 1, \"model\": 7}, \"Metrics\": {\"train_absolute_loss_objective\": {\"sum\": 0.5438667583465576, \"count\": 1, \"min\": 0.5438667583465576, \"max\": 0.5438667583465576}}}\u001b[0m\n",
      "\u001b[34m#metrics {\"StartTime\": 1640700494.4685364, \"EndTime\": 1640700494.4685833, \"Dimensions\": {\"Algorithm\": \"Linear Learner\", \"Host\": \"algo-1\", \"Operation\": \"training\", \"epoch\": 1, \"model\": 8}, \"Metrics\": {\"train_absolute_loss_objective\": {\"sum\": 0.8324487876892089, \"count\": 1, \"min\": 0.8324487876892089, \"max\": 0.8324487876892089}}}\u001b[0m\n",
      "\u001b[34m#metrics {\"StartTime\": 1640700494.468642, \"EndTime\": 1640700494.4686587, \"Dimensions\": {\"Algorithm\": \"Linear Learner\", \"Host\": \"algo-1\", \"Operation\": \"training\", \"epoch\": 1, \"model\": 9}, \"Metrics\": {\"train_absolute_loss_objective\": {\"sum\": 0.7679870796203613, \"count\": 1, \"min\": 0.7679870796203613, \"max\": 0.7679870796203613}}}\u001b[0m\n",
      "\u001b[34m#metrics {\"StartTime\": 1640700494.468715, \"EndTime\": 1640700494.46873, \"Dimensions\": {\"Algorithm\": \"Linear Learner\", \"Host\": \"algo-1\", \"Operation\": \"training\", \"epoch\": 1, \"model\": 10}, \"Metrics\": {\"train_absolute_loss_objective\": {\"sum\": 0.7741760349273682, \"count\": 1, \"min\": 0.7741760349273682, \"max\": 0.7741760349273682}}}\u001b[0m\n",
      "\u001b[34m#metrics {\"StartTime\": 1640700494.4687755, \"EndTime\": 1640700494.4687915, \"Dimensions\": {\"Algorithm\": \"Linear Learner\", \"Host\": \"algo-1\", \"Operation\": \"training\", \"epoch\": 1, \"model\": 11}, \"Metrics\": {\"train_absolute_loss_objective\": {\"sum\": 0.7604903793334961, \"count\": 1, \"min\": 0.7604903793334961, \"max\": 0.7604903793334961}}}\u001b[0m\n",
      "\u001b[34m#metrics {\"StartTime\": 1640700494.4688458, \"EndTime\": 1640700494.4688632, \"Dimensions\": {\"Algorithm\": \"Linear Learner\", \"Host\": \"algo-1\", \"Operation\": \"training\", \"epoch\": 1, \"model\": 12}, \"Metrics\": {\"train_absolute_loss_objective\": {\"sum\": 0.5012773990631103, \"count\": 1, \"min\": 0.5012773990631103, \"max\": 0.5012773990631103}}}\u001b[0m\n",
      "\u001b[34m#metrics {\"StartTime\": 1640700494.468913, \"EndTime\": 1640700494.4689288, \"Dimensions\": {\"Algorithm\": \"Linear Learner\", \"Host\": \"algo-1\", \"Operation\": \"training\", \"epoch\": 1, \"model\": 13}, \"Metrics\": {\"train_absolute_loss_objective\": {\"sum\": 0.521657075881958, \"count\": 1, \"min\": 0.521657075881958, \"max\": 0.521657075881958}}}\u001b[0m\n",
      "\u001b[34m#metrics {\"StartTime\": 1640700494.468981, \"EndTime\": 1640700494.468998, \"Dimensions\": {\"Algorithm\": \"Linear Learner\", \"Host\": \"algo-1\", \"Operation\": \"training\", \"epoch\": 1, \"model\": 14}, \"Metrics\": {\"train_absolute_loss_objective\": {\"sum\": 0.5001230049133301, \"count\": 1, \"min\": 0.5001230049133301, \"max\": 0.5001230049133301}}}\u001b[0m\n",
      "\u001b[34m#metrics {\"StartTime\": 1640700494.4690495, \"EndTime\": 1640700494.4690657, \"Dimensions\": {\"Algorithm\": \"Linear Learner\", \"Host\": \"algo-1\", \"Operation\": \"training\", \"epoch\": 1, \"model\": 15}, \"Metrics\": {\"train_absolute_loss_objective\": {\"sum\": 0.526541395187378, \"count\": 1, \"min\": 0.526541395187378, \"max\": 0.526541395187378}}}\u001b[0m\n",
      "\u001b[34m#metrics {\"StartTime\": 1640700494.469119, \"EndTime\": 1640700494.4691355, \"Dimensions\": {\"Algorithm\": \"Linear Learner\", \"Host\": \"algo-1\", \"Operation\": \"training\", \"epoch\": 1, \"model\": 16}, \"Metrics\": {\"train_absolute_loss_objective\": {\"sum\": 0.7458477115631104, \"count\": 1, \"min\": 0.7458477115631104, \"max\": 0.7458477115631104}}}\u001b[0m\n",
      "\u001b[34m#metrics {\"StartTime\": 1640700494.469186, \"EndTime\": 1640700494.4692008, \"Dimensions\": {\"Algorithm\": \"Linear Learner\", \"Host\": \"algo-1\", \"Operation\": \"training\", \"epoch\": 1, \"model\": 17}, \"Metrics\": {\"train_absolute_loss_objective\": {\"sum\": 0.7933342742919922, \"count\": 1, \"min\": 0.7933342742919922, \"max\": 0.7933342742919922}}}\u001b[0m\n",
      "\u001b[34m#metrics {\"StartTime\": 1640700494.4692316, \"EndTime\": 1640700494.469244, \"Dimensions\": {\"Algorithm\": \"Linear Learner\", \"Host\": \"algo-1\", \"Operation\": \"training\", \"epoch\": 1, \"model\": 18}, \"Metrics\": {\"train_absolute_loss_objective\": {\"sum\": 0.7708031940460205, \"count\": 1, \"min\": 0.7708031940460205, \"max\": 0.7708031940460205}}}\u001b[0m\n",
      "\u001b[34m#metrics {\"StartTime\": 1640700494.4693036, \"EndTime\": 1640700494.4693222, \"Dimensions\": {\"Algorithm\": \"Linear Learner\", \"Host\": \"algo-1\", \"Operation\": \"training\", \"epoch\": 1, \"model\": 19}, \"Metrics\": {\"train_absolute_loss_objective\": {\"sum\": 0.7683115482330323, \"count\": 1, \"min\": 0.7683115482330323, \"max\": 0.7683115482330323}}}\u001b[0m\n",
      "\u001b[34m#metrics {\"StartTime\": 1640700494.4693828, \"EndTime\": 1640700494.4693985, \"Dimensions\": {\"Algorithm\": \"Linear Learner\", \"Host\": \"algo-1\", \"Operation\": \"training\", \"epoch\": 1, \"model\": 20}, \"Metrics\": {\"train_absolute_loss_objective\": {\"sum\": 0.5668611812591553, \"count\": 1, \"min\": 0.5668611812591553, \"max\": 0.5668611812591553}}}\u001b[0m\n",
      "\u001b[34m#metrics {\"StartTime\": 1640700494.469448, \"EndTime\": 1640700494.4694614, \"Dimensions\": {\"Algorithm\": \"Linear Learner\", \"Host\": \"algo-1\", \"Operation\": \"training\", \"epoch\": 1, \"model\": 21}, \"Metrics\": {\"train_absolute_loss_objective\": {\"sum\": 0.5738965320587158, \"count\": 1, \"min\": 0.5738965320587158, \"max\": 0.5738965320587158}}}\u001b[0m\n",
      "\u001b[34m#metrics {\"StartTime\": 1640700494.4695385, \"EndTime\": 1640700494.4695566, \"Dimensions\": {\"Algorithm\": \"Linear Learner\", \"Host\": \"algo-1\", \"Operation\": \"training\", \"epoch\": 1, \"model\": 22}, \"Metrics\": {\"train_absolute_loss_objective\": {\"sum\": 0.5467159652709961, \"count\": 1, \"min\": 0.5467159652709961, \"max\": 0.5467159652709961}}}\u001b[0m\n",
      "\u001b[34m#metrics {\"StartTime\": 1640700494.4696193, \"EndTime\": 1640700494.4696307, \"Dimensions\": {\"Algorithm\": \"Linear Learner\", \"Host\": \"algo-1\", \"Operation\": \"training\", \"epoch\": 1, \"model\": 23}, \"Metrics\": {\"train_absolute_loss_objective\": {\"sum\": 0.586795825958252, \"count\": 1, \"min\": 0.586795825958252, \"max\": 0.586795825958252}}}\u001b[0m\n",
      "\u001b[34m#metrics {\"StartTime\": 1640700494.469673, \"EndTime\": 1640700494.4696891, \"Dimensions\": {\"Algorithm\": \"Linear Learner\", \"Host\": \"algo-1\", \"Operation\": \"training\", \"epoch\": 1, \"model\": 24}, \"Metrics\": {\"train_absolute_loss_objective\": {\"sum\": 0.7899970722198486, \"count\": 1, \"min\": 0.7899970722198486, \"max\": 0.7899970722198486}}}\u001b[0m\n",
      "\u001b[34m#metrics {\"StartTime\": 1640700494.469739, \"EndTime\": 1640700494.4697537, \"Dimensions\": {\"Algorithm\": \"Linear Learner\", \"Host\": \"algo-1\", \"Operation\": \"training\", \"epoch\": 1, \"model\": 25}, \"Metrics\": {\"train_absolute_loss_objective\": {\"sum\": 0.8121002674102783, \"count\": 1, \"min\": 0.8121002674102783, \"max\": 0.8121002674102783}}}\u001b[0m\n",
      "\u001b[34m#metrics {\"StartTime\": 1640700494.4697826, \"EndTime\": 1640700494.4697902, \"Dimensions\": {\"Algorithm\": \"Linear Learner\", \"Host\": \"algo-1\", \"Operation\": \"training\", \"epoch\": 1, \"model\": 26}, \"Metrics\": {\"train_absolute_loss_objective\": {\"sum\": 0.8024752140045166, \"count\": 1, \"min\": 0.8024752140045166, \"max\": 0.8024752140045166}}}\u001b[0m\n",
      "\u001b[34m#metrics {\"StartTime\": 1640700494.4698327, \"EndTime\": 1640700494.469849, \"Dimensions\": {\"Algorithm\": \"Linear Learner\", \"Host\": \"algo-1\", \"Operation\": \"training\", \"epoch\": 1, \"model\": 27}, \"Metrics\": {\"train_absolute_loss_objective\": {\"sum\": 0.8041537761688232, \"count\": 1, \"min\": 0.8041537761688232, \"max\": 0.8041537761688232}}}\u001b[0m\n",
      "\u001b[34m#metrics {\"StartTime\": 1640700494.4699001, \"EndTime\": 1640700494.4699163, \"Dimensions\": {\"Algorithm\": \"Linear Learner\", \"Host\": \"algo-1\", \"Operation\": \"training\", \"epoch\": 1, \"model\": 28}, \"Metrics\": {\"train_absolute_loss_objective\": {\"sum\": 0.9847992897033692, \"count\": 1, \"min\": 0.9847992897033692, \"max\": 0.9847992897033692}}}\u001b[0m\n",
      "\u001b[34m#metrics {\"StartTime\": 1640700494.4699676, \"EndTime\": 1640700494.4699833, \"Dimensions\": {\"Algorithm\": \"Linear Learner\", \"Host\": \"algo-1\", \"Operation\": \"training\", \"epoch\": 1, \"model\": 29}, \"Metrics\": {\"train_absolute_loss_objective\": {\"sum\": 0.9833753776550292, \"count\": 1, \"min\": 0.9833753776550292, \"max\": 0.9833753776550292}}}\u001b[0m\n",
      "\u001b[34m#metrics {\"StartTime\": 1640700494.470043, \"EndTime\": 1640700494.4700603, \"Dimensions\": {\"Algorithm\": \"Linear Learner\", \"Host\": \"algo-1\", \"Operation\": \"training\", \"epoch\": 1, \"model\": 30}, \"Metrics\": {\"train_absolute_loss_objective\": {\"sum\": 0.9623436737060547, \"count\": 1, \"min\": 0.9623436737060547, \"max\": 0.9623436737060547}}}\u001b[0m\n",
      "\u001b[34m#metrics {\"StartTime\": 1640700494.4701118, \"EndTime\": 1640700494.4701278, \"Dimensions\": {\"Algorithm\": \"Linear Learner\", \"Host\": \"algo-1\", \"Operation\": \"training\", \"epoch\": 1, \"model\": 31}, \"Metrics\": {\"train_absolute_loss_objective\": {\"sum\": 0.9845904350280762, \"count\": 1, \"min\": 0.9845904350280762, \"max\": 0.9845904350280762}}}\u001b[0m\n",
      "\u001b[34m[12/28/2021 14:08:14 INFO 140446915331904] #quality_metric: host=algo-1, epoch=1, train absolute_loss_objective <loss>=0.7791010093688965\u001b[0m\n",
      "\u001b[34m[12/28/2021 14:08:14 INFO 140446915331904] #early_stopping_criteria_metric: host=algo-1, epoch=1, criteria=absolute_loss_objective, value=0.5001230049133301\u001b[0m\n",
      "\u001b[34m[12/28/2021 14:08:14 INFO 140446915331904] Epoch 1: Loss improved. Updating best model\u001b[0m\n",
      "\u001b[34m[12/28/2021 14:08:14 INFO 140446915331904] Saving model for epoch: 1\u001b[0m\n",
      "\u001b[34m[12/28/2021 14:08:14 INFO 140446915331904] Saved checkpoint to \"/tmp/tmp_lc_skhh/mx-mod-0000.params\"\u001b[0m\n",
      "\u001b[34m[12/28/2021 14:08:14 INFO 140446915331904] #progress_metric: host=algo-1, completed 40.0 % of epochs\u001b[0m\n",
      "\u001b[34m#metrics {\"StartTime\": 1640700494.3762197, \"EndTime\": 1640700494.4773903, \"Dimensions\": {\"Algorithm\": \"Linear Learner\", \"Host\": \"algo-1\", \"Operation\": \"training\", \"epoch\": 1, \"Meta\": \"training_data_iter\"}, \"Metrics\": {\"Total Records Seen\": {\"sum\": 83.0, \"count\": 1, \"min\": 83, \"max\": 83}, \"Total Batches Seen\": {\"sum\": 19.0, \"count\": 1, \"min\": 19, \"max\": 19}, \"Max Records Seen Between Resets\": {\"sum\": 26.0, \"count\": 1, \"min\": 26, \"max\": 26}, \"Max Batches Seen Between Resets\": {\"sum\": 6.0, \"count\": 1, \"min\": 6, \"max\": 6}, \"Reset Count\": {\"sum\": 4.0, \"count\": 1, \"min\": 4, \"max\": 4}, \"Number of Records Since Last Reset\": {\"sum\": 26.0, \"count\": 1, \"min\": 26, \"max\": 26}, \"Number of Batches Since Last Reset\": {\"sum\": 6.0, \"count\": 1, \"min\": 6, \"max\": 6}}}\u001b[0m\n",
      "\u001b[34m[12/28/2021 14:08:14 INFO 140446915331904] #throughput_metric: host=algo-1, train throughput=256.6567285016969 records/second\u001b[0m\n",
      "\u001b[34m[2021-12-28 14:08:14.573] [tensorio] [info] epoch_stats={\"data_pipeline\": \"/opt/ml/input/data/train\", \"epoch\": 8, \"duration\": 95, \"num_examples\": 6, \"num_bytes\": 1248}\u001b[0m\n",
      "\u001b[34m#metrics {\"StartTime\": 1640700494.5736077, \"EndTime\": 1640700494.5736864, \"Dimensions\": {\"Algorithm\": \"Linear Learner\", \"Host\": \"algo-1\", \"Operation\": \"training\", \"epoch\": 2, \"model\": 0}, \"Metrics\": {\"train_absolute_loss_objective\": {\"sum\": 0.7515675687789917, \"count\": 1, \"min\": 0.7515675687789917, \"max\": 0.7515675687789917}}}\u001b[0m\n",
      "\u001b[34m#metrics {\"StartTime\": 1640700494.573764, \"EndTime\": 1640700494.5737836, \"Dimensions\": {\"Algorithm\": \"Linear Learner\", \"Host\": \"algo-1\", \"Operation\": \"training\", \"epoch\": 2, \"model\": 1}, \"Metrics\": {\"train_absolute_loss_objective\": {\"sum\": 0.7710935974121094, \"count\": 1, \"min\": 0.7710935974121094, \"max\": 0.7710935974121094}}}\u001b[0m\n",
      "\u001b[34m#metrics {\"StartTime\": 1640700494.5738451, \"EndTime\": 1640700494.5738637, \"Dimensions\": {\"Algorithm\": \"Linear Learner\", \"Host\": \"algo-1\", \"Operation\": \"training\", \"epoch\": 2, \"model\": 2}, \"Metrics\": {\"train_absolute_loss_objective\": {\"sum\": 0.7536589908599853, \"count\": 1, \"min\": 0.7536589908599853, \"max\": 0.7536589908599853}}}\u001b[0m\n",
      "\u001b[34m#metrics {\"StartTime\": 1640700494.5739195, \"EndTime\": 1640700494.573936, \"Dimensions\": {\"Algorithm\": \"Linear Learner\", \"Host\": \"algo-1\", \"Operation\": \"training\", \"epoch\": 2, \"model\": 3}, \"Metrics\": {\"train_absolute_loss_objective\": {\"sum\": 0.7702112674713135, \"count\": 1, \"min\": 0.7702112674713135, \"max\": 0.7702112674713135}}}\u001b[0m\n",
      "\u001b[34m#metrics {\"StartTime\": 1640700494.5739892, \"EndTime\": 1640700494.5740054, \"Dimensions\": {\"Algorithm\": \"Linear Learner\", \"Host\": \"algo-1\", \"Operation\": \"training\", \"epoch\": 2, \"model\": 4}, \"Metrics\": {\"train_absolute_loss_objective\": {\"sum\": 0.21311330437660217, \"count\": 1, \"min\": 0.21311330437660217, \"max\": 0.21311330437660217}}}\u001b[0m\n",
      "\u001b[34m#metrics {\"StartTime\": 1640700494.5740557, \"EndTime\": 1640700494.5740695, \"Dimensions\": {\"Algorithm\": \"Linear Learner\", \"Host\": \"algo-1\", \"Operation\": \"training\", \"epoch\": 2, \"model\": 5}, \"Metrics\": {\"train_absolute_loss_objective\": {\"sum\": 0.23338117837905883, \"count\": 1, \"min\": 0.23338117837905883, \"max\": 0.23338117837905883}}}\u001b[0m\n",
      "\u001b[34m#metrics {\"StartTime\": 1640700494.5740986, \"EndTime\": 1640700494.5741067, \"Dimensions\": {\"Algorithm\": \"Linear Learner\", \"Host\": \"algo-1\", \"Operation\": \"training\", \"epoch\": 2, \"model\": 6}, \"Metrics\": {\"train_absolute_loss_objective\": {\"sum\": 0.19593393325805664, \"count\": 1, \"min\": 0.19593393325805664, \"max\": 0.19593393325805664}}}\u001b[0m\n",
      "\u001b[34m#metrics {\"StartTime\": 1640700494.5741487, \"EndTime\": 1640700494.5741634, \"Dimensions\": {\"Algorithm\": \"Linear Learner\", \"Host\": \"algo-1\", \"Operation\": \"training\", \"epoch\": 2, \"model\": 7}, \"Metrics\": {\"train_absolute_loss_objective\": {\"sum\": 0.20851959943771362, \"count\": 1, \"min\": 0.20851959943771362, \"max\": 0.20851959943771362}}}\u001b[0m\n",
      "\u001b[34m#metrics {\"StartTime\": 1640700494.5742104, \"EndTime\": 1640700494.5742211, \"Dimensions\": {\"Algorithm\": \"Linear Learner\", \"Host\": \"algo-1\", \"Operation\": \"training\", \"epoch\": 2, \"model\": 8}, \"Metrics\": {\"train_absolute_loss_objective\": {\"sum\": 0.8023018550872802, \"count\": 1, \"min\": 0.8023018550872802, \"max\": 0.8023018550872802}}}\u001b[0m\n",
      "\u001b[34m#metrics {\"StartTime\": 1640700494.5742474, \"EndTime\": 1640700494.5742548, \"Dimensions\": {\"Algorithm\": \"Linear Learner\", \"Host\": \"algo-1\", \"Operation\": \"training\", \"epoch\": 2, \"model\": 9}, \"Metrics\": {\"train_absolute_loss_objective\": {\"sum\": 0.7411199045181275, \"count\": 1, \"min\": 0.7411199045181275, \"max\": 0.7411199045181275}}}\u001b[0m\n",
      "\u001b[34m#metrics {\"StartTime\": 1640700494.5742774, \"EndTime\": 1640700494.5742846, \"Dimensions\": {\"Algorithm\": \"Linear Learner\", \"Host\": \"algo-1\", \"Operation\": \"training\", \"epoch\": 2, \"model\": 10}, \"Metrics\": {\"train_absolute_loss_objective\": {\"sum\": 0.7469465684890747, \"count\": 1, \"min\": 0.7469465684890747, \"max\": 0.7469465684890747}}}\u001b[0m\n",
      "\u001b[34m#metrics {\"StartTime\": 1640700494.5743074, \"EndTime\": 1640700494.5743191, \"Dimensions\": {\"Algorithm\": \"Linear Learner\", \"Host\": \"algo-1\", \"Operation\": \"training\", \"epoch\": 2, \"model\": 11}, \"Metrics\": {\"train_absolute_loss_objective\": {\"sum\": 0.7340834426879883, \"count\": 1, \"min\": 0.7340834426879883, \"max\": 0.7340834426879883}}}\u001b[0m\n",
      "\u001b[34m#metrics {\"StartTime\": 1640700494.5743632, \"EndTime\": 1640700494.5743778, \"Dimensions\": {\"Algorithm\": \"Linear Learner\", \"Host\": \"algo-1\", \"Operation\": \"training\", \"epoch\": 2, \"model\": 12}, \"Metrics\": {\"train_absolute_loss_objective\": {\"sum\": 0.2310323429107666, \"count\": 1, \"min\": 0.2310323429107666, \"max\": 0.2310323429107666}}}\u001b[0m\n",
      "\u001b[34m#metrics {\"StartTime\": 1640700494.57442, \"EndTime\": 1640700494.5744295, \"Dimensions\": {\"Algorithm\": \"Linear Learner\", \"Host\": \"algo-1\", \"Operation\": \"training\", \"epoch\": 2, \"model\": 13}, \"Metrics\": {\"train_absolute_loss_objective\": {\"sum\": 0.2161910629272461, \"count\": 1, \"min\": 0.2161910629272461, \"max\": 0.2161910629272461}}}\u001b[0m\n",
      "\u001b[34m#metrics {\"StartTime\": 1640700494.574454, \"EndTime\": 1640700494.5744615, \"Dimensions\": {\"Algorithm\": \"Linear Learner\", \"Host\": \"algo-1\", \"Operation\": \"training\", \"epoch\": 2, \"model\": 14}, \"Metrics\": {\"train_absolute_loss_objective\": {\"sum\": 0.23196125030517578, \"count\": 1, \"min\": 0.23196125030517578, \"max\": 0.23196125030517578}}}\u001b[0m\n",
      "\u001b[34m#metrics {\"StartTime\": 1640700494.5744846, \"EndTime\": 1640700494.5744965, \"Dimensions\": {\"Algorithm\": \"Linear Learner\", \"Host\": \"algo-1\", \"Operation\": \"training\", \"epoch\": 2, \"model\": 15}, \"Metrics\": {\"train_absolute_loss_objective\": {\"sum\": 0.20450978636741637, \"count\": 1, \"min\": 0.20450978636741637, \"max\": 0.20450978636741637}}}\u001b[0m\n",
      "\u001b[34m#metrics {\"StartTime\": 1640700494.5745416, \"EndTime\": 1640700494.5745566, \"Dimensions\": {\"Algorithm\": \"Linear Learner\", \"Host\": \"algo-1\", \"Operation\": \"training\", \"epoch\": 2, \"model\": 16}, \"Metrics\": {\"train_absolute_loss_objective\": {\"sum\": 0.7206467151641845, \"count\": 1, \"min\": 0.7206467151641845, \"max\": 0.7206467151641845}}}\u001b[0m\n",
      "\u001b[34m#metrics {\"StartTime\": 1640700494.5746017, \"EndTime\": 1640700494.5746114, \"Dimensions\": {\"Algorithm\": \"Linear Learner\", \"Host\": \"algo-1\", \"Operation\": \"training\", \"epoch\": 2, \"model\": 17}, \"Metrics\": {\"train_absolute_loss_objective\": {\"sum\": 0.7671056413650512, \"count\": 1, \"min\": 0.7671056413650512, \"max\": 0.7671056413650512}}}\u001b[0m\n",
      "\u001b[34m#metrics {\"StartTime\": 1640700494.5746367, \"EndTime\": 1640700494.5746439, \"Dimensions\": {\"Algorithm\": \"Linear Learner\", \"Host\": \"algo-1\", \"Operation\": \"training\", \"epoch\": 2, \"model\": 18}, \"Metrics\": {\"train_absolute_loss_objective\": {\"sum\": 0.7439822053909302, \"count\": 1, \"min\": 0.7439822053909302, \"max\": 0.7439822053909302}}}\u001b[0m\n",
      "\u001b[34m#metrics {\"StartTime\": 1640700494.5746791, \"EndTime\": 1640700494.5746934, \"Dimensions\": {\"Algorithm\": \"Linear Learner\", \"Host\": \"algo-1\", \"Operation\": \"training\", \"epoch\": 2, \"model\": 19}, \"Metrics\": {\"train_absolute_loss_objective\": {\"sum\": 0.7416357851028442, \"count\": 1, \"min\": 0.7416357851028442, \"max\": 0.7416357851028442}}}\u001b[0m\n",
      "\u001b[34m#metrics {\"StartTime\": 1640700494.5747366, \"EndTime\": 1640700494.574751, \"Dimensions\": {\"Algorithm\": \"Linear Learner\", \"Host\": \"algo-1\", \"Operation\": \"training\", \"epoch\": 2, \"model\": 20}, \"Metrics\": {\"train_absolute_loss_objective\": {\"sum\": 0.2583174800872803, \"count\": 1, \"min\": 0.2583174800872803, \"max\": 0.2583174800872803}}}\u001b[0m\n",
      "\u001b[34m#metrics {\"StartTime\": 1640700494.5747874, \"EndTime\": 1640700494.5747964, \"Dimensions\": {\"Algorithm\": \"Linear Learner\", \"Host\": \"algo-1\", \"Operation\": \"training\", \"epoch\": 2, \"model\": 21}, \"Metrics\": {\"train_absolute_loss_objective\": {\"sum\": 0.25980845928192137, \"count\": 1, \"min\": 0.25980845928192137, \"max\": 0.25980845928192137}}}\u001b[0m\n",
      "\u001b[34m#metrics {\"StartTime\": 1640700494.5748205, \"EndTime\": 1640700494.5748277, \"Dimensions\": {\"Algorithm\": \"Linear Learner\", \"Host\": \"algo-1\", \"Operation\": \"training\", \"epoch\": 2, \"model\": 22}, \"Metrics\": {\"train_absolute_loss_objective\": {\"sum\": 0.2571420669555664, \"count\": 1, \"min\": 0.2571420669555664, \"max\": 0.2571420669555664}}}\u001b[0m\n",
      "\u001b[34m#metrics {\"StartTime\": 1640700494.57487, \"EndTime\": 1640700494.5748844, \"Dimensions\": {\"Algorithm\": \"Linear Learner\", \"Host\": \"algo-1\", \"Operation\": \"training\", \"epoch\": 2, \"model\": 23}, \"Metrics\": {\"train_absolute_loss_objective\": {\"sum\": 0.26232773780822755, \"count\": 1, \"min\": 0.26232773780822755, \"max\": 0.26232773780822755}}}\u001b[0m\n",
      "\u001b[34m#metrics {\"StartTime\": 1640700494.574928, \"EndTime\": 1640700494.574943, \"Dimensions\": {\"Algorithm\": \"Linear Learner\", \"Host\": \"algo-1\", \"Operation\": \"training\", \"epoch\": 2, \"model\": 24}, \"Metrics\": {\"train_absolute_loss_objective\": {\"sum\": 0.7971549510955811, \"count\": 1, \"min\": 0.7971549510955811, \"max\": 0.7971549510955811}}}\u001b[0m\n",
      "\u001b[34m#metrics {\"StartTime\": 1640700494.5749717, \"EndTime\": 1640700494.574981, \"Dimensions\": {\"Algorithm\": \"Linear Learner\", \"Host\": \"algo-1\", \"Operation\": \"training\", \"epoch\": 2, \"model\": 25}, \"Metrics\": {\"train_absolute_loss_objective\": {\"sum\": 0.7910392856597901, \"count\": 1, \"min\": 0.7910392856597901, \"max\": 0.7910392856597901}}}\u001b[0m\n",
      "\u001b[34m#metrics {\"StartTime\": 1640700494.575024, \"EndTime\": 1640700494.5750384, \"Dimensions\": {\"Algorithm\": \"Linear Learner\", \"Host\": \"algo-1\", \"Operation\": \"training\", \"epoch\": 2, \"model\": 26}, \"Metrics\": {\"train_absolute_loss_objective\": {\"sum\": 0.7919161891937256, \"count\": 1, \"min\": 0.7919161891937256, \"max\": 0.7919161891937256}}}\u001b[0m\n",
      "\u001b[34m#metrics {\"StartTime\": 1640700494.5750732, \"EndTime\": 1640700494.5750818, \"Dimensions\": {\"Algorithm\": \"Linear Learner\", \"Host\": \"algo-1\", \"Operation\": \"training\", \"epoch\": 2, \"model\": 27}, \"Metrics\": {\"train_absolute_loss_objective\": {\"sum\": 0.8014420795440674, \"count\": 1, \"min\": 0.8014420795440674, \"max\": 0.8014420795440674}}}\u001b[0m\n",
      "\u001b[34m#metrics {\"StartTime\": 1640700494.5751226, \"EndTime\": 1640700494.5751364, \"Dimensions\": {\"Algorithm\": \"Linear Learner\", \"Host\": \"algo-1\", \"Operation\": \"training\", \"epoch\": 2, \"model\": 28}, \"Metrics\": {\"train_absolute_loss_objective\": {\"sum\": 0.8369925498962403, \"count\": 1, \"min\": 0.8369925498962403, \"max\": 0.8369925498962403}}}\u001b[0m\n",
      "\u001b[34m#metrics {\"StartTime\": 1640700494.5751843, \"EndTime\": 1640700494.5751946, \"Dimensions\": {\"Algorithm\": \"Linear Learner\", \"Host\": \"algo-1\", \"Operation\": \"training\", \"epoch\": 2, \"model\": 29}, \"Metrics\": {\"train_absolute_loss_objective\": {\"sum\": 0.8381887626647949, \"count\": 1, \"min\": 0.8381887626647949, \"max\": 0.8381887626647949}}}\u001b[0m\n",
      "\u001b[34m#metrics {\"StartTime\": 1640700494.57523, \"EndTime\": 1640700494.5752442, \"Dimensions\": {\"Algorithm\": \"Linear Learner\", \"Host\": \"algo-1\", \"Operation\": \"training\", \"epoch\": 2, \"model\": 30}, \"Metrics\": {\"train_absolute_loss_objective\": {\"sum\": 0.8547609329223633, \"count\": 1, \"min\": 0.8547609329223633, \"max\": 0.8547609329223633}}}\u001b[0m\n",
      "\u001b[34m#metrics {\"StartTime\": 1640700494.5752916, \"EndTime\": 1640700494.575307, \"Dimensions\": {\"Algorithm\": \"Linear Learner\", \"Host\": \"algo-1\", \"Operation\": \"training\", \"epoch\": 2, \"model\": 31}, \"Metrics\": {\"train_absolute_loss_objective\": {\"sum\": 0.8436260414123535, \"count\": 1, \"min\": 0.8436260414123535, \"max\": 0.8436260414123535}}}\u001b[0m\n",
      "\u001b[34m[12/28/2021 14:08:14 INFO 140446915331904] #quality_metric: host=algo-1, epoch=2, train absolute_loss_objective <loss>=0.7515675687789917\u001b[0m\n",
      "\u001b[34m[12/28/2021 14:08:14 INFO 140446915331904] #early_stopping_criteria_metric: host=algo-1, epoch=2, criteria=absolute_loss_objective, value=0.19593393325805664\u001b[0m\n",
      "\u001b[34m[12/28/2021 14:08:14 INFO 140446915331904] Epoch 2: Loss improved. Updating best model\u001b[0m\n",
      "\u001b[34m[12/28/2021 14:08:14 INFO 140446915331904] Saving model for epoch: 2\u001b[0m\n",
      "\u001b[34m[12/28/2021 14:08:14 INFO 140446915331904] Saved checkpoint to \"/tmp/tmpqzah91na/mx-mod-0000.params\"\u001b[0m\n",
      "\u001b[34m[12/28/2021 14:08:14 INFO 140446915331904] #progress_metric: host=algo-1, completed 60.0 % of epochs\u001b[0m\n",
      "\u001b[34m#metrics {\"StartTime\": 1640700494.477692, \"EndTime\": 1640700494.5826442, \"Dimensions\": {\"Algorithm\": \"Linear Learner\", \"Host\": \"algo-1\", \"Operation\": \"training\", \"epoch\": 2, \"Meta\": \"training_data_iter\"}, \"Metrics\": {\"Total Records Seen\": {\"sum\": 109.0, \"count\": 1, \"min\": 109, \"max\": 109}, \"Total Batches Seen\": {\"sum\": 25.0, \"count\": 1, \"min\": 25, \"max\": 25}, \"Max Records Seen Between Resets\": {\"sum\": 26.0, \"count\": 1, \"min\": 26, \"max\": 26}, \"Max Batches Seen Between Resets\": {\"sum\": 6.0, \"count\": 1, \"min\": 6, \"max\": 6}, \"Reset Count\": {\"sum\": 5.0, \"count\": 1, \"min\": 5, \"max\": 5}, \"Number of Records Since Last Reset\": {\"sum\": 26.0, \"count\": 1, \"min\": 26, \"max\": 26}, \"Number of Batches Since Last Reset\": {\"sum\": 6.0, \"count\": 1, \"min\": 6, \"max\": 6}}}\u001b[0m\n",
      "\u001b[34m[12/28/2021 14:08:14 INFO 140446915331904] #throughput_metric: host=algo-1, train throughput=247.48918941613542 records/second\u001b[0m\n",
      "\u001b[34m[2021-12-28 14:08:14.680] [tensorio] [info] epoch_stats={\"data_pipeline\": \"/opt/ml/input/data/train\", \"epoch\": 10, \"duration\": 97, \"num_examples\": 6, \"num_bytes\": 1248}\u001b[0m\n",
      "\u001b[34m#metrics {\"StartTime\": 1640700494.680177, \"EndTime\": 1640700494.6802566, \"Dimensions\": {\"Algorithm\": \"Linear Learner\", \"Host\": \"algo-1\", \"Operation\": \"training\", \"epoch\": 3, \"model\": 0}, \"Metrics\": {\"train_absolute_loss_objective\": {\"sum\": 0.7312992238998413, \"count\": 1, \"min\": 0.7312992238998413, \"max\": 0.7312992238998413}}}\u001b[0m\n",
      "\u001b[34m#metrics {\"StartTime\": 1640700494.6803377, \"EndTime\": 1640700494.6803563, \"Dimensions\": {\"Algorithm\": \"Linear Learner\", \"Host\": \"algo-1\", \"Operation\": \"training\", \"epoch\": 3, \"model\": 1}, \"Metrics\": {\"train_absolute_loss_objective\": {\"sum\": 0.7545279312133789, \"count\": 1, \"min\": 0.7545279312133789, \"max\": 0.7545279312133789}}}\u001b[0m\n",
      "\u001b[34m#metrics {\"StartTime\": 1640700494.680423, \"EndTime\": 1640700494.6804416, \"Dimensions\": {\"Algorithm\": \"Linear Learner\", \"Host\": \"algo-1\", \"Operation\": \"training\", \"epoch\": 3, \"model\": 2}, \"Metrics\": {\"train_absolute_loss_objective\": {\"sum\": 0.7331919240951538, \"count\": 1, \"min\": 0.7331919240951538, \"max\": 0.7331919240951538}}}\u001b[0m\n",
      "\u001b[34m#metrics {\"StartTime\": 1640700494.6804986, \"EndTime\": 1640700494.6805158, \"Dimensions\": {\"Algorithm\": \"Linear Learner\", \"Host\": \"algo-1\", \"Operation\": \"training\", \"epoch\": 3, \"model\": 3}, \"Metrics\": {\"train_absolute_loss_objective\": {\"sum\": 0.7537294483184814, \"count\": 1, \"min\": 0.7537294483184814, \"max\": 0.7537294483184814}}}\u001b[0m\n",
      "\u001b[34m#metrics {\"StartTime\": 1640700494.6805682, \"EndTime\": 1640700494.6805854, \"Dimensions\": {\"Algorithm\": \"Linear Learner\", \"Host\": \"algo-1\", \"Operation\": \"training\", \"epoch\": 3, \"model\": 4}, \"Metrics\": {\"train_absolute_loss_objective\": {\"sum\": 0.2660937476158142, \"count\": 1, \"min\": 0.2660937476158142, \"max\": 0.2660937476158142}}}\u001b[0m\n",
      "\u001b[34m#metrics {\"StartTime\": 1640700494.6806452, \"EndTime\": 1640700494.6806629, \"Dimensions\": {\"Algorithm\": \"Linear Learner\", \"Host\": \"algo-1\", \"Operation\": \"training\", \"epoch\": 3, \"model\": 5}, \"Metrics\": {\"train_absolute_loss_objective\": {\"sum\": 0.23747058391571044, \"count\": 1, \"min\": 0.23747058391571044, \"max\": 0.23747058391571044}}}\u001b[0m\n",
      "\u001b[34m#metrics {\"StartTime\": 1640700494.6807191, \"EndTime\": 1640700494.6807373, \"Dimensions\": {\"Algorithm\": \"Linear Learner\", \"Host\": \"algo-1\", \"Operation\": \"training\", \"epoch\": 3, \"model\": 6}, \"Metrics\": {\"train_absolute_loss_objective\": {\"sum\": 0.20301333904266358, \"count\": 1, \"min\": 0.20301333904266358, \"max\": 0.20301333904266358}}}\u001b[0m\n",
      "\u001b[34m#metrics {\"StartTime\": 1640700494.6807916, \"EndTime\": 1640700494.6808093, \"Dimensions\": {\"Algorithm\": \"Linear Learner\", \"Host\": \"algo-1\", \"Operation\": \"training\", \"epoch\": 3, \"model\": 7}, \"Metrics\": {\"train_absolute_loss_objective\": {\"sum\": 0.23610979557037354, \"count\": 1, \"min\": 0.23610979557037354, \"max\": 0.23610979557037354}}}\u001b[0m\n",
      "\u001b[34m#metrics {\"StartTime\": 1640700494.6808627, \"EndTime\": 1640700494.6808794, \"Dimensions\": {\"Algorithm\": \"Linear Learner\", \"Host\": \"algo-1\", \"Operation\": \"training\", \"epoch\": 3, \"model\": 8}, \"Metrics\": {\"train_absolute_loss_objective\": {\"sum\": 0.7828178834915162, \"count\": 1, \"min\": 0.7828178834915162, \"max\": 0.7828178834915162}}}\u001b[0m\n",
      "\u001b[34m#metrics {\"StartTime\": 1640700494.6809328, \"EndTime\": 1640700494.680949, \"Dimensions\": {\"Algorithm\": \"Linear Learner\", \"Host\": \"algo-1\", \"Operation\": \"training\", \"epoch\": 3, \"model\": 9}, \"Metrics\": {\"train_absolute_loss_objective\": {\"sum\": 0.7217572212219239, \"count\": 1, \"min\": 0.7217572212219239, \"max\": 0.7217572212219239}}}\u001b[0m\n",
      "\u001b[34m#metrics {\"StartTime\": 1640700494.6810012, \"EndTime\": 1640700494.6810174, \"Dimensions\": {\"Algorithm\": \"Linear Learner\", \"Host\": \"algo-1\", \"Operation\": \"training\", \"epoch\": 3, \"model\": 10}, \"Metrics\": {\"train_absolute_loss_objective\": {\"sum\": 0.72712082862854, \"count\": 1, \"min\": 0.72712082862854, \"max\": 0.72712082862854}}}\u001b[0m\n",
      "\u001b[34m#metrics {\"StartTime\": 1640700494.68107, \"EndTime\": 1640700494.6810873, \"Dimensions\": {\"Algorithm\": \"Linear Learner\", \"Host\": \"algo-1\", \"Operation\": \"training\", \"epoch\": 3, \"model\": 11}, \"Metrics\": {\"train_absolute_loss_objective\": {\"sum\": 0.7153896045684814, \"count\": 1, \"min\": 0.7153896045684814, \"max\": 0.7153896045684814}}}\u001b[0m\n",
      "\u001b[34m#metrics {\"StartTime\": 1640700494.6811411, \"EndTime\": 1640700494.6811578, \"Dimensions\": {\"Algorithm\": \"Linear Learner\", \"Host\": \"algo-1\", \"Operation\": \"training\", \"epoch\": 3, \"model\": 12}, \"Metrics\": {\"train_absolute_loss_objective\": {\"sum\": 0.23185041666030884, \"count\": 1, \"min\": 0.23185041666030884, \"max\": 0.23185041666030884}}}\u001b[0m\n",
      "\u001b[34m#metrics {\"StartTime\": 1640700494.6812139, \"EndTime\": 1640700494.6812325, \"Dimensions\": {\"Algorithm\": \"Linear Learner\", \"Host\": \"algo-1\", \"Operation\": \"training\", \"epoch\": 3, \"model\": 13}, \"Metrics\": {\"train_absolute_loss_objective\": {\"sum\": 0.20965782165527344, \"count\": 1, \"min\": 0.20965782165527344, \"max\": 0.20965782165527344}}}\u001b[0m\n",
      "\u001b[34m#metrics {\"StartTime\": 1640700494.6812882, \"EndTime\": 1640700494.6813035, \"Dimensions\": {\"Algorithm\": \"Linear Learner\", \"Host\": \"algo-1\", \"Operation\": \"training\", \"epoch\": 3, \"model\": 14}, \"Metrics\": {\"train_absolute_loss_objective\": {\"sum\": 0.2330626893043518, \"count\": 1, \"min\": 0.2330626893043518, \"max\": 0.2330626893043518}}}\u001b[0m\n",
      "\u001b[34m#metrics {\"StartTime\": 1640700494.6813593, \"EndTime\": 1640700494.6813755, \"Dimensions\": {\"Algorithm\": \"Linear Learner\", \"Host\": \"algo-1\", \"Operation\": \"training\", \"epoch\": 3, \"model\": 15}, \"Metrics\": {\"train_absolute_loss_objective\": {\"sum\": 0.2324373173713684, \"count\": 1, \"min\": 0.2324373173713684, \"max\": 0.2324373173713684}}}\u001b[0m\n",
      "\u001b[34m#metrics {\"StartTime\": 1640700494.6814253, \"EndTime\": 1640700494.6814423, \"Dimensions\": {\"Algorithm\": \"Linear Learner\", \"Host\": \"algo-1\", \"Operation\": \"training\", \"epoch\": 3, \"model\": 16}, \"Metrics\": {\"train_absolute_loss_objective\": {\"sum\": 0.7038378715515137, \"count\": 1, \"min\": 0.7038378715515137, \"max\": 0.7038378715515137}}}\u001b[0m\n",
      "\u001b[34m#metrics {\"StartTime\": 1640700494.6814919, \"EndTime\": 1640700494.6815288, \"Dimensions\": {\"Algorithm\": \"Linear Learner\", \"Host\": \"algo-1\", \"Operation\": \"training\", \"epoch\": 3, \"model\": 17}, \"Metrics\": {\"train_absolute_loss_objective\": {\"sum\": 0.7512191152572631, \"count\": 1, \"min\": 0.7512191152572631, \"max\": 0.7512191152572631}}}\u001b[0m\n",
      "\u001b[34m#metrics {\"StartTime\": 1640700494.6815736, \"EndTime\": 1640700494.6815867, \"Dimensions\": {\"Algorithm\": \"Linear Learner\", \"Host\": \"algo-1\", \"Operation\": \"training\", \"epoch\": 3, \"model\": 18}, \"Metrics\": {\"train_absolute_loss_objective\": {\"sum\": 0.7248347949981689, \"count\": 1, \"min\": 0.7248347949981689, \"max\": 0.7248347949981689}}}\u001b[0m\n",
      "\u001b[34m#metrics {\"StartTime\": 1640700494.6816385, \"EndTime\": 1640700494.6816545, \"Dimensions\": {\"Algorithm\": \"Linear Learner\", \"Host\": \"algo-1\", \"Operation\": \"training\", \"epoch\": 3, \"model\": 19}, \"Metrics\": {\"train_absolute_loss_objective\": {\"sum\": 0.7226370811462403, \"count\": 1, \"min\": 0.7226370811462403, \"max\": 0.7226370811462403}}}\u001b[0m\n",
      "\u001b[34m#metrics {\"StartTime\": 1640700494.6817136, \"EndTime\": 1640700494.68173, \"Dimensions\": {\"Algorithm\": \"Linear Learner\", \"Host\": \"algo-1\", \"Operation\": \"training\", \"epoch\": 3, \"model\": 20}, \"Metrics\": {\"train_absolute_loss_objective\": {\"sum\": 0.3614204359054565, \"count\": 1, \"min\": 0.3614204359054565, \"max\": 0.3614204359054565}}}\u001b[0m\n",
      "\u001b[34m#metrics {\"StartTime\": 1640700494.6817832, \"EndTime\": 1640700494.6817992, \"Dimensions\": {\"Algorithm\": \"Linear Learner\", \"Host\": \"algo-1\", \"Operation\": \"training\", \"epoch\": 3, \"model\": 21}, \"Metrics\": {\"train_absolute_loss_objective\": {\"sum\": 0.36121727466583253, \"count\": 1, \"min\": 0.36121727466583253, \"max\": 0.36121727466583253}}}\u001b[0m\n",
      "\u001b[34m#metrics {\"StartTime\": 1640700494.6818602, \"EndTime\": 1640700494.681877, \"Dimensions\": {\"Algorithm\": \"Linear Learner\", \"Host\": \"algo-1\", \"Operation\": \"training\", \"epoch\": 3, \"model\": 22}, \"Metrics\": {\"train_absolute_loss_objective\": {\"sum\": 0.3239294528961182, \"count\": 1, \"min\": 0.3239294528961182, \"max\": 0.3239294528961182}}}\u001b[0m\n",
      "\u001b[34m#metrics {\"StartTime\": 1640700494.6819367, \"EndTime\": 1640700494.6819546, \"Dimensions\": {\"Algorithm\": \"Linear Learner\", \"Host\": \"algo-1\", \"Operation\": \"training\", \"epoch\": 3, \"model\": 23}, \"Metrics\": {\"train_absolute_loss_objective\": {\"sum\": 0.3587954473495483, \"count\": 1, \"min\": 0.3587954473495483, \"max\": 0.3587954473495483}}}\u001b[0m\n",
      "\u001b[34m#metrics {\"StartTime\": 1640700494.6820087, \"EndTime\": 1640700494.6820254, \"Dimensions\": {\"Algorithm\": \"Linear Learner\", \"Host\": \"algo-1\", \"Operation\": \"training\", \"epoch\": 3, \"model\": 24}, \"Metrics\": {\"train_absolute_loss_objective\": {\"sum\": 0.805316333770752, \"count\": 1, \"min\": 0.805316333770752, \"max\": 0.805316333770752}}}\u001b[0m\n",
      "\u001b[34m#metrics {\"StartTime\": 1640700494.682059, \"EndTime\": 1640700494.6820674, \"Dimensions\": {\"Algorithm\": \"Linear Learner\", \"Host\": \"algo-1\", \"Operation\": \"training\", \"epoch\": 3, \"model\": 25}, \"Metrics\": {\"train_absolute_loss_objective\": {\"sum\": 0.7876904010772705, \"count\": 1, \"min\": 0.7876904010772705, \"max\": 0.7876904010772705}}}\u001b[0m\n",
      "\u001b[34m#metrics {\"StartTime\": 1640700494.6821115, \"EndTime\": 1640700494.6821275, \"Dimensions\": {\"Algorithm\": \"Linear Learner\", \"Host\": \"algo-1\", \"Operation\": \"training\", \"epoch\": 3, \"model\": 26}, \"Metrics\": {\"train_absolute_loss_objective\": {\"sum\": 0.7974223899841308, \"count\": 1, \"min\": 0.7974223899841308, \"max\": 0.7974223899841308}}}\u001b[0m\n",
      "\u001b[34m#metrics {\"StartTime\": 1640700494.6821885, \"EndTime\": 1640700494.682206, \"Dimensions\": {\"Algorithm\": \"Linear Learner\", \"Host\": \"algo-1\", \"Operation\": \"training\", \"epoch\": 3, \"model\": 27}, \"Metrics\": {\"train_absolute_loss_objective\": {\"sum\": 0.7993222999572754, \"count\": 1, \"min\": 0.7993222999572754, \"max\": 0.7993222999572754}}}\u001b[0m\n",
      "\u001b[34m#metrics {\"StartTime\": 1640700494.682268, \"EndTime\": 1640700494.6822853, \"Dimensions\": {\"Algorithm\": \"Linear Learner\", \"Host\": \"algo-1\", \"Operation\": \"training\", \"epoch\": 3, \"model\": 28}, \"Metrics\": {\"train_absolute_loss_objective\": {\"sum\": 0.842175989151001, \"count\": 1, \"min\": 0.842175989151001, \"max\": 0.842175989151001}}}\u001b[0m\n",
      "\u001b[34m#metrics {\"StartTime\": 1640700494.6823351, \"EndTime\": 1640700494.6823487, \"Dimensions\": {\"Algorithm\": \"Linear Learner\", \"Host\": \"algo-1\", \"Operation\": \"training\", \"epoch\": 3, \"model\": 29}, \"Metrics\": {\"train_absolute_loss_objective\": {\"sum\": 0.8426970958709716, \"count\": 1, \"min\": 0.8426970958709716, \"max\": 0.8426970958709716}}}\u001b[0m\n",
      "\u001b[34m#metrics {\"StartTime\": 1640700494.682396, \"EndTime\": 1640700494.6824112, \"Dimensions\": {\"Algorithm\": \"Linear Learner\", \"Host\": \"algo-1\", \"Operation\": \"training\", \"epoch\": 3, \"model\": 30}, \"Metrics\": {\"train_absolute_loss_objective\": {\"sum\": 0.8383202171325683, \"count\": 1, \"min\": 0.8383202171325683, \"max\": 0.8383202171325683}}}\u001b[0m\n",
      "\u001b[34m#metrics {\"StartTime\": 1640700494.68247, \"EndTime\": 1640700494.6824865, \"Dimensions\": {\"Algorithm\": \"Linear Learner\", \"Host\": \"algo-1\", \"Operation\": \"training\", \"epoch\": 3, \"model\": 31}, \"Metrics\": {\"train_absolute_loss_objective\": {\"sum\": 0.8260012722015381, \"count\": 1, \"min\": 0.8260012722015381, \"max\": 0.8260012722015381}}}\u001b[0m\n",
      "\u001b[34m[12/28/2021 14:08:14 INFO 140446915331904] #quality_metric: host=algo-1, epoch=3, train absolute_loss_objective <loss>=0.7312992238998413\u001b[0m\n",
      "\u001b[34m[12/28/2021 14:08:14 INFO 140446915331904] #early_stopping_criteria_metric: host=algo-1, epoch=3, criteria=absolute_loss_objective, value=0.20301333904266358\u001b[0m\n",
      "\u001b[34m[12/28/2021 14:08:14 INFO 140446915331904] Saving model for epoch: 3\u001b[0m\n",
      "\u001b[34m[12/28/2021 14:08:14 INFO 140446915331904] Saved checkpoint to \"/tmp/tmpms7z7_h5/mx-mod-0000.params\"\u001b[0m\n",
      "\u001b[34m[12/28/2021 14:08:14 INFO 140446915331904] #progress_metric: host=algo-1, completed 80.0 % of epochs\u001b[0m\n",
      "\u001b[34m#metrics {\"StartTime\": 1640700494.5829082, \"EndTime\": 1640700494.6892867, \"Dimensions\": {\"Algorithm\": \"Linear Learner\", \"Host\": \"algo-1\", \"Operation\": \"training\", \"epoch\": 3, \"Meta\": \"training_data_iter\"}, \"Metrics\": {\"Total Records Seen\": {\"sum\": 135.0, \"count\": 1, \"min\": 135, \"max\": 135}, \"Total Batches Seen\": {\"sum\": 31.0, \"count\": 1, \"min\": 31, \"max\": 31}, \"Max Records Seen Between Resets\": {\"sum\": 26.0, \"count\": 1, \"min\": 26, \"max\": 26}, \"Max Batches Seen Between Resets\": {\"sum\": 6.0, \"count\": 1, \"min\": 6, \"max\": 6}, \"Reset Count\": {\"sum\": 6.0, \"count\": 1, \"min\": 6, \"max\": 6}, \"Number of Records Since Last Reset\": {\"sum\": 26.0, \"count\": 1, \"min\": 26, \"max\": 26}, \"Number of Batches Since Last Reset\": {\"sum\": 6.0, \"count\": 1, \"min\": 6, \"max\": 6}}}\u001b[0m\n",
      "\u001b[34m[12/28/2021 14:08:14 INFO 140446915331904] #throughput_metric: host=algo-1, train throughput=244.10160537931898 records/second\u001b[0m\n",
      "\u001b[34m[2021-12-28 14:08:14.799] [tensorio] [info] epoch_stats={\"data_pipeline\": \"/opt/ml/input/data/train\", \"epoch\": 12, \"duration\": 109, \"num_examples\": 6, \"num_bytes\": 1248}\u001b[0m\n",
      "\u001b[34m#metrics {\"StartTime\": 1640700494.7992985, \"EndTime\": 1640700494.799378, \"Dimensions\": {\"Algorithm\": \"Linear Learner\", \"Host\": \"algo-1\", \"Operation\": \"training\", \"epoch\": 4, \"model\": 0}, \"Metrics\": {\"train_absolute_loss_objective\": {\"sum\": 0.7114312076568603, \"count\": 1, \"min\": 0.7114312076568603, \"max\": 0.7114312076568603}}}\u001b[0m\n",
      "\u001b[34m#metrics {\"StartTime\": 1640700494.7994668, \"EndTime\": 1640700494.7994876, \"Dimensions\": {\"Algorithm\": \"Linear Learner\", \"Host\": \"algo-1\", \"Operation\": \"training\", \"epoch\": 4, \"model\": 1}, \"Metrics\": {\"train_absolute_loss_objective\": {\"sum\": 0.7315868282318115, \"count\": 1, \"min\": 0.7315868282318115, \"max\": 0.7315868282318115}}}\u001b[0m\n",
      "\u001b[34m#metrics {\"StartTime\": 1640700494.7995458, \"EndTime\": 1640700494.7995646, \"Dimensions\": {\"Algorithm\": \"Linear Learner\", \"Host\": \"algo-1\", \"Operation\": \"training\", \"epoch\": 4, \"model\": 2}, \"Metrics\": {\"train_absolute_loss_objective\": {\"sum\": 0.7135226631164551, \"count\": 1, \"min\": 0.7135226631164551, \"max\": 0.7135226631164551}}}\u001b[0m\n",
      "\u001b[34m#metrics {\"StartTime\": 1640700494.7996194, \"EndTime\": 1640700494.799636, \"Dimensions\": {\"Algorithm\": \"Linear Learner\", \"Host\": \"algo-1\", \"Operation\": \"training\", \"epoch\": 4, \"model\": 3}, \"Metrics\": {\"train_absolute_loss_objective\": {\"sum\": 0.7307883596420288, \"count\": 1, \"min\": 0.7307883596420288, \"max\": 0.7307883596420288}}}\u001b[0m\n",
      "\u001b[34m#metrics {\"StartTime\": 1640700494.7996888, \"EndTime\": 1640700494.799705, \"Dimensions\": {\"Algorithm\": \"Linear Learner\", \"Host\": \"algo-1\", \"Operation\": \"training\", \"epoch\": 4, \"model\": 4}, \"Metrics\": {\"train_absolute_loss_objective\": {\"sum\": 0.20064428925514222, \"count\": 1, \"min\": 0.20064428925514222, \"max\": 0.20064428925514222}}}\u001b[0m\n",
      "\u001b[34m#metrics {\"StartTime\": 1640700494.7997594, \"EndTime\": 1640700494.7997775, \"Dimensions\": {\"Algorithm\": \"Linear Learner\", \"Host\": \"algo-1\", \"Operation\": \"training\", \"epoch\": 4, \"model\": 5}, \"Metrics\": {\"train_absolute_loss_objective\": {\"sum\": 0.17539099216461182, \"count\": 1, \"min\": 0.17539099216461182, \"max\": 0.17539099216461182}}}\u001b[0m\n",
      "\u001b[34m#metrics {\"StartTime\": 1640700494.79983, \"EndTime\": 1640700494.7998466, \"Dimensions\": {\"Algorithm\": \"Linear Learner\", \"Host\": \"algo-1\", \"Operation\": \"training\", \"epoch\": 4, \"model\": 6}, \"Metrics\": {\"train_absolute_loss_objective\": {\"sum\": 0.17845072507858276, \"count\": 1, \"min\": 0.17845072507858276, \"max\": 0.17845072507858276}}}\u001b[0m\n",
      "\u001b[34m#metrics {\"StartTime\": 1640700494.799898, \"EndTime\": 1640700494.7999136, \"Dimensions\": {\"Algorithm\": \"Linear Learner\", \"Host\": \"algo-1\", \"Operation\": \"training\", \"epoch\": 4, \"model\": 7}, \"Metrics\": {\"train_absolute_loss_objective\": {\"sum\": 0.17596728920936586, \"count\": 1, \"min\": 0.17596728920936586, \"max\": 0.17596728920936586}}}\u001b[0m\n",
      "\u001b[34m#metrics {\"StartTime\": 1640700494.799965, \"EndTime\": 1640700494.7999818, \"Dimensions\": {\"Algorithm\": \"Linear Learner\", \"Host\": \"algo-1\", \"Operation\": \"training\", \"epoch\": 4, \"model\": 8}, \"Metrics\": {\"train_absolute_loss_objective\": {\"sum\": 0.7616234111785889, \"count\": 1, \"min\": 0.7616234111785889, \"max\": 0.7616234111785889}}}\u001b[0m\n",
      "\u001b[34m#metrics {\"StartTime\": 1640700494.8000321, \"EndTime\": 1640700494.8000484, \"Dimensions\": {\"Algorithm\": \"Linear Learner\", \"Host\": \"algo-1\", \"Operation\": \"training\", \"epoch\": 4, \"model\": 9}, \"Metrics\": {\"train_absolute_loss_objective\": {\"sum\": 0.6998111009597778, \"count\": 1, \"min\": 0.6998111009597778, \"max\": 0.6998111009597778}}}\u001b[0m\n",
      "\u001b[34m#metrics {\"StartTime\": 1640700494.8000996, \"EndTime\": 1640700494.800115, \"Dimensions\": {\"Algorithm\": \"Linear Learner\", \"Host\": \"algo-1\", \"Operation\": \"training\", \"epoch\": 4, \"model\": 10}, \"Metrics\": {\"train_absolute_loss_objective\": {\"sum\": 0.7056733798980713, \"count\": 1, \"min\": 0.7056733798980713, \"max\": 0.7056733798980713}}}\u001b[0m\n",
      "\u001b[34m#metrics {\"StartTime\": 1640700494.8001666, \"EndTime\": 1640700494.8001828, \"Dimensions\": {\"Algorithm\": \"Linear Learner\", \"Host\": \"algo-1\", \"Operation\": \"training\", \"epoch\": 4, \"model\": 11}, \"Metrics\": {\"train_absolute_loss_objective\": {\"sum\": 0.6933051347732544, \"count\": 1, \"min\": 0.6933051347732544, \"max\": 0.6933051347732544}}}\u001b[0m\n",
      "\u001b[34m#metrics {\"StartTime\": 1640700494.8002362, \"EndTime\": 1640700494.8002534, \"Dimensions\": {\"Algorithm\": \"Linear Learner\", \"Host\": \"algo-1\", \"Operation\": \"training\", \"epoch\": 4, \"model\": 12}, \"Metrics\": {\"train_absolute_loss_objective\": {\"sum\": 0.18641050815582275, \"count\": 1, \"min\": 0.18641050815582275, \"max\": 0.18641050815582275}}}\u001b[0m\n",
      "\u001b[34m#metrics {\"StartTime\": 1640700494.8003035, \"EndTime\": 1640700494.8003206, \"Dimensions\": {\"Algorithm\": \"Linear Learner\", \"Host\": \"algo-1\", \"Operation\": \"training\", \"epoch\": 4, \"model\": 13}, \"Metrics\": {\"train_absolute_loss_objective\": {\"sum\": 0.2597283220291138, \"count\": 1, \"min\": 0.2597283220291138, \"max\": 0.2597283220291138}}}\u001b[0m\n",
      "\u001b[34m#metrics {\"StartTime\": 1640700494.800371, \"EndTime\": 1640700494.8003874, \"Dimensions\": {\"Algorithm\": \"Linear Learner\", \"Host\": \"algo-1\", \"Operation\": \"training\", \"epoch\": 4, \"model\": 14}, \"Metrics\": {\"train_absolute_loss_objective\": {\"sum\": 0.1859814143180847, \"count\": 1, \"min\": 0.1859814143180847, \"max\": 0.1859814143180847}}}\u001b[0m\n",
      "\u001b[34m#metrics {\"StartTime\": 1640700494.8004375, \"EndTime\": 1640700494.8004534, \"Dimensions\": {\"Algorithm\": \"Linear Learner\", \"Host\": \"algo-1\", \"Operation\": \"training\", \"epoch\": 4, \"model\": 15}, \"Metrics\": {\"train_absolute_loss_objective\": {\"sum\": 0.1706369388103485, \"count\": 1, \"min\": 0.1706369388103485, \"max\": 0.1706369388103485}}}\u001b[0m\n",
      "\u001b[34m#metrics {\"StartTime\": 1640700494.800505, \"EndTime\": 1640700494.800521, \"Dimensions\": {\"Algorithm\": \"Linear Learner\", \"Host\": \"algo-1\", \"Operation\": \"training\", \"epoch\": 4, \"model\": 16}, \"Metrics\": {\"train_absolute_loss_objective\": {\"sum\": 0.6826991128921509, \"count\": 1, \"min\": 0.6826991128921509, \"max\": 0.6826991128921509}}}\u001b[0m\n",
      "\u001b[34m#metrics {\"StartTime\": 1640700494.8005712, \"EndTime\": 1640700494.8005884, \"Dimensions\": {\"Algorithm\": \"Linear Learner\", \"Host\": \"algo-1\", \"Operation\": \"training\", \"epoch\": 4, \"model\": 17}, \"Metrics\": {\"train_absolute_loss_objective\": {\"sum\": 0.7288124322891235, \"count\": 1, \"min\": 0.7288124322891235, \"max\": 0.7288124322891235}}}\u001b[0m\n",
      "\u001b[34m#metrics {\"StartTime\": 1640700494.8006375, \"EndTime\": 1640700494.800653, \"Dimensions\": {\"Algorithm\": \"Linear Learner\", \"Host\": \"algo-1\", \"Operation\": \"training\", \"epoch\": 4, \"model\": 18}, \"Metrics\": {\"train_absolute_loss_objective\": {\"sum\": 0.7039911651611328, \"count\": 1, \"min\": 0.7039911651611328, \"max\": 0.7039911651611328}}}\u001b[0m\n",
      "\u001b[34m#metrics {\"StartTime\": 1640700494.8007038, \"EndTime\": 1640700494.8007193, \"Dimensions\": {\"Algorithm\": \"Linear Learner\", \"Host\": \"algo-1\", \"Operation\": \"training\", \"epoch\": 4, \"model\": 19}, \"Metrics\": {\"train_absolute_loss_objective\": {\"sum\": 0.7013927268981933, \"count\": 1, \"min\": 0.7013927268981933, \"max\": 0.7013927268981933}}}\u001b[0m\n",
      "\u001b[34m#metrics {\"StartTime\": 1640700494.8007696, \"EndTime\": 1640700494.800786, \"Dimensions\": {\"Algorithm\": \"Linear Learner\", \"Host\": \"algo-1\", \"Operation\": \"training\", \"epoch\": 4, \"model\": 20}, \"Metrics\": {\"train_absolute_loss_objective\": {\"sum\": 0.33592280864715574, \"count\": 1, \"min\": 0.33592280864715574, \"max\": 0.33592280864715574}}}\u001b[0m\n",
      "\u001b[34m#metrics {\"StartTime\": 1640700494.8008397, \"EndTime\": 1640700494.800857, \"Dimensions\": {\"Algorithm\": \"Linear Learner\", \"Host\": \"algo-1\", \"Operation\": \"training\", \"epoch\": 4, \"model\": 21}, \"Metrics\": {\"train_absolute_loss_objective\": {\"sum\": 0.33231396198272706, \"count\": 1, \"min\": 0.33231396198272706, \"max\": 0.33231396198272706}}}\u001b[0m\n",
      "\u001b[34m#metrics {\"StartTime\": 1640700494.800907, \"EndTime\": 1640700494.8009233, \"Dimensions\": {\"Algorithm\": \"Linear Learner\", \"Host\": \"algo-1\", \"Operation\": \"training\", \"epoch\": 4, \"model\": 22}, \"Metrics\": {\"train_absolute_loss_objective\": {\"sum\": 0.305715765953064, \"count\": 1, \"min\": 0.305715765953064, \"max\": 0.305715765953064}}}\u001b[0m\n",
      "\u001b[34m#metrics {\"StartTime\": 1640700494.800976, \"EndTime\": 1640700494.8009925, \"Dimensions\": {\"Algorithm\": \"Linear Learner\", \"Host\": \"algo-1\", \"Operation\": \"training\", \"epoch\": 4, \"model\": 23}, \"Metrics\": {\"train_absolute_loss_objective\": {\"sum\": 0.3229165983200073, \"count\": 1, \"min\": 0.3229165983200073, \"max\": 0.3229165983200073}}}\u001b[0m\n",
      "\u001b[34m#metrics {\"StartTime\": 1640700494.801042, \"EndTime\": 1640700494.8010585, \"Dimensions\": {\"Algorithm\": \"Linear Learner\", \"Host\": \"algo-1\", \"Operation\": \"training\", \"epoch\": 4, \"model\": 24}, \"Metrics\": {\"train_absolute_loss_objective\": {\"sum\": 0.805050106048584, \"count\": 1, \"min\": 0.805050106048584, \"max\": 0.805050106048584}}}\u001b[0m\n",
      "\u001b[34m#metrics {\"StartTime\": 1640700494.8011086, \"EndTime\": 1640700494.8011243, \"Dimensions\": {\"Algorithm\": \"Linear Learner\", \"Host\": \"algo-1\", \"Operation\": \"training\", \"epoch\": 4, \"model\": 25}, \"Metrics\": {\"train_absolute_loss_objective\": {\"sum\": 0.7875212383270264, \"count\": 1, \"min\": 0.7875212383270264, \"max\": 0.7875212383270264}}}\u001b[0m\n",
      "\u001b[34m#metrics {\"StartTime\": 1640700494.8011756, \"EndTime\": 1640700494.8011916, \"Dimensions\": {\"Algorithm\": \"Linear Learner\", \"Host\": \"algo-1\", \"Operation\": \"training\", \"epoch\": 4, \"model\": 26}, \"Metrics\": {\"train_absolute_loss_objective\": {\"sum\": 0.7989702224731445, \"count\": 1, \"min\": 0.7989702224731445, \"max\": 0.7989702224731445}}}\u001b[0m\n",
      "\u001b[34m#metrics {\"StartTime\": 1640700494.8012424, \"EndTime\": 1640700494.8012586, \"Dimensions\": {\"Algorithm\": \"Linear Learner\", \"Host\": \"algo-1\", \"Operation\": \"training\", \"epoch\": 4, \"model\": 27}, \"Metrics\": {\"train_absolute_loss_objective\": {\"sum\": 0.792459716796875, \"count\": 1, \"min\": 0.792459716796875, \"max\": 0.792459716796875}}}\u001b[0m\n",
      "\u001b[34m#metrics {\"StartTime\": 1640700494.8013103, \"EndTime\": 1640700494.801327, \"Dimensions\": {\"Algorithm\": \"Linear Learner\", \"Host\": \"algo-1\", \"Operation\": \"training\", \"epoch\": 4, \"model\": 28}, \"Metrics\": {\"train_absolute_loss_objective\": {\"sum\": 0.855579833984375, \"count\": 1, \"min\": 0.855579833984375, \"max\": 0.855579833984375}}}\u001b[0m\n",
      "\u001b[34m#metrics {\"StartTime\": 1640700494.801378, \"EndTime\": 1640700494.801395, \"Dimensions\": {\"Algorithm\": \"Linear Learner\", \"Host\": \"algo-1\", \"Operation\": \"training\", \"epoch\": 4, \"model\": 29}, \"Metrics\": {\"train_absolute_loss_objective\": {\"sum\": 0.8575384902954102, \"count\": 1, \"min\": 0.8575384902954102, \"max\": 0.8575384902954102}}}\u001b[0m\n",
      "\u001b[34m#metrics {\"StartTime\": 1640700494.8014455, \"EndTime\": 1640700494.801462, \"Dimensions\": {\"Algorithm\": \"Linear Learner\", \"Host\": \"algo-1\", \"Operation\": \"training\", \"epoch\": 4, \"model\": 30}, \"Metrics\": {\"train_absolute_loss_objective\": {\"sum\": 0.8513295364379883, \"count\": 1, \"min\": 0.8513295364379883, \"max\": 0.8513295364379883}}}\u001b[0m\n",
      "\u001b[34m#metrics {\"StartTime\": 1640700494.8015342, \"EndTime\": 1640700494.8015518, \"Dimensions\": {\"Algorithm\": \"Linear Learner\", \"Host\": \"algo-1\", \"Operation\": \"training\", \"epoch\": 4, \"model\": 31}, \"Metrics\": {\"train_absolute_loss_objective\": {\"sum\": 0.8751033401489258, \"count\": 1, \"min\": 0.8751033401489258, \"max\": 0.8751033401489258}}}\u001b[0m\n",
      "\u001b[34m[12/28/2021 14:08:14 INFO 140446915331904] #quality_metric: host=algo-1, epoch=4, train absolute_loss_objective <loss>=0.7114312076568603\u001b[0m\n",
      "\u001b[34m[12/28/2021 14:08:14 INFO 140446915331904] #early_stopping_criteria_metric: host=algo-1, epoch=4, criteria=absolute_loss_objective, value=0.1706369388103485\u001b[0m\n",
      "\u001b[34m[12/28/2021 14:08:14 INFO 140446915331904] Epoch 4: Loss improved. Updating best model\u001b[0m\n",
      "\u001b[34m[12/28/2021 14:08:14 INFO 140446915331904] Saving model for epoch: 4\u001b[0m\n",
      "\u001b[34m[12/28/2021 14:08:14 INFO 140446915331904] Saved checkpoint to \"/tmp/tmpaklae4id/mx-mod-0000.params\"\u001b[0m\n",
      "\u001b[34m[12/28/2021 14:08:14 INFO 140446915331904] #progress_metric: host=algo-1, completed 100.0 % of epochs\u001b[0m\n",
      "\u001b[34m#metrics {\"StartTime\": 1640700494.689575, \"EndTime\": 1640700494.809973, \"Dimensions\": {\"Algorithm\": \"Linear Learner\", \"Host\": \"algo-1\", \"Operation\": \"training\", \"epoch\": 4, \"Meta\": \"training_data_iter\"}, \"Metrics\": {\"Total Records Seen\": {\"sum\": 161.0, \"count\": 1, \"min\": 161, \"max\": 161}, \"Total Batches Seen\": {\"sum\": 37.0, \"count\": 1, \"min\": 37, \"max\": 37}, \"Max Records Seen Between Resets\": {\"sum\": 26.0, \"count\": 1, \"min\": 26, \"max\": 26}, \"Max Batches Seen Between Resets\": {\"sum\": 6.0, \"count\": 1, \"min\": 6, \"max\": 6}, \"Reset Count\": {\"sum\": 7.0, \"count\": 1, \"min\": 7, \"max\": 7}, \"Number of Records Since Last Reset\": {\"sum\": 26.0, \"count\": 1, \"min\": 26, \"max\": 26}, \"Number of Batches Since Last Reset\": {\"sum\": 6.0, \"count\": 1, \"min\": 6, \"max\": 6}}}\u001b[0m\n",
      "\u001b[34m[12/28/2021 14:08:14 INFO 140446915331904] #throughput_metric: host=algo-1, train throughput=215.72479496116824 records/second\u001b[0m\n",
      "\u001b[34m[12/28/2021 14:08:14 WARNING 140446915331904] wait_for_all_workers will not sync workers since the kv store is not running distributed\u001b[0m\n",
      "\u001b[34m[12/28/2021 14:08:14 WARNING 140446915331904] wait_for_all_workers will not sync workers since the kv store is not running distributed\u001b[0m\n",
      "\u001b[34m[2021-12-28 14:08:14.810] [tensorio] [info] epoch_stats={\"data_pipeline\": \"/opt/ml/input/data/train\", \"epoch\": 14, \"duration\": 0, \"num_examples\": 1, \"num_bytes\": 240}\u001b[0m\n",
      "\u001b[34m[2021-12-28 14:08:14.823] [tensorio] [info] epoch_stats={\"data_pipeline\": \"/opt/ml/input/data/train\", \"epoch\": 16, \"duration\": 9, \"num_examples\": 6, \"num_bytes\": 1248}\u001b[0m\n",
      "\u001b[34m[12/28/2021 14:08:14 INFO 140446915331904] #train_score (algo-1) : ('absolute_loss_objective', 5343.498798076923)\u001b[0m\n",
      "\u001b[34m[12/28/2021 14:08:14 INFO 140446915331904] #train_score (algo-1) : ('mse', 42593312.978365384)\u001b[0m\n",
      "\u001b[34m[12/28/2021 14:08:14 INFO 140446915331904] #train_score (algo-1) : ('absolute_loss', 5343.498798076923)\u001b[0m\n",
      "\u001b[34m[12/28/2021 14:08:14 INFO 140446915331904] #train_score (algo-1) : ('rmse', 6526.355259895479)\u001b[0m\n",
      "\u001b[34m[12/28/2021 14:08:14 INFO 140446915331904] #train_score (algo-1) : ('r2', 0.9469252747972025)\u001b[0m\n",
      "\u001b[34m[12/28/2021 14:08:14 INFO 140446915331904] #train_score (algo-1) : ('mae', 5343.498798076923)\u001b[0m\n",
      "\u001b[34m[12/28/2021 14:08:14 INFO 140446915331904] #quality_metric: host=algo-1, train absolute_loss_objective <loss>=5343.498798076923\u001b[0m\n",
      "\u001b[34m[12/28/2021 14:08:14 INFO 140446915331904] #quality_metric: host=algo-1, train mse <loss>=42593312.978365384\u001b[0m\n",
      "\u001b[34m[12/28/2021 14:08:14 INFO 140446915331904] #quality_metric: host=algo-1, train absolute_loss <loss>=5343.498798076923\u001b[0m\n",
      "\u001b[34m[12/28/2021 14:08:14 INFO 140446915331904] #quality_metric: host=algo-1, train rmse <loss>=6526.355259895479\u001b[0m\n",
      "\u001b[34m[12/28/2021 14:08:14 INFO 140446915331904] #quality_metric: host=algo-1, train r2 <loss>=0.9469252747972025\u001b[0m\n",
      "\u001b[34m[12/28/2021 14:08:14 INFO 140446915331904] #quality_metric: host=algo-1, train mae <loss>=5343.498798076923\u001b[0m\n",
      "\u001b[34m[12/28/2021 14:08:14 INFO 140446915331904] Best model found for hyperparameters: {\"optimizer\": \"adam\", \"learning_rate\": 0.1, \"wd\": 0.01, \"l1\": 0.0, \"lr_scheduler_step\": 100, \"lr_scheduler_factor\": 0.99, \"lr_scheduler_minimum_lr\": 0.0001}\u001b[0m\n",
      "\u001b[34m[12/28/2021 14:08:14 INFO 140446915331904] Saved checkpoint to \"/tmp/tmpy6lktqan/mx-mod-0000.params\"\u001b[0m\n",
      "\u001b[34m[12/28/2021 14:08:14 INFO 140446915331904] Test data is not provided.\u001b[0m\n",
      "\u001b[34m#metrics {\"StartTime\": 1640700494.0753613, \"EndTime\": 1640700494.831845, \"Dimensions\": {\"Algorithm\": \"Linear Learner\", \"Host\": \"algo-1\", \"Operation\": \"training\"}, \"Metrics\": {\"initialize.time\": {\"sum\": 175.38070678710938, \"count\": 1, \"min\": 175.38070678710938, \"max\": 175.38070678710938}, \"epochs\": {\"sum\": 5.0, \"count\": 1, \"min\": 5, \"max\": 5}, \"check_early_stopping.time\": {\"sum\": 4.395961761474609, \"count\": 5, \"min\": 0.19049644470214844, \"max\": 1.1398792266845703}, \"update.time\": {\"sum\": 540.677547454834, \"count\": 5, \"min\": 98.80948066711426, \"max\": 117.71678924560547}, \"finalize.time\": {\"sum\": 16.913652420043945, \"count\": 1, \"min\": 16.913652420043945, \"max\": 16.913652420043945}, \"setuptime\": {\"sum\": 24.491548538208008, \"count\": 1, \"min\": 24.491548538208008, \"max\": 24.491548538208008}, \"totaltime\": {\"sum\": 980.0868034362793, \"count\": 1, \"min\": 980.0868034362793, \"max\": 980.0868034362793}}}\u001b[0m\n",
      "\n",
      "2021-12-28 14:08:28 Uploading - Uploading generated training model\n",
      "2021-12-28 14:08:28 Completed - Training job completed\n",
      "Training seconds: 77\n",
      "Billable seconds: 26\n",
      "Managed Spot Training savings: 66.2%\n"
     ]
    }
   ],
   "source": [
    "# Pass the type of imstance that we would like to use for training to the container.\n",
    "# Also provide a output path and sagemaker session into the Estimator.\n",
    "# Specify hoe many instances we would like to use for training.\n",
    "\n",
    "linear = sagemaker.estimator.Estimator(container,\n",
    "                                      role,\n",
    "                                      instance_count =1,# train_instance_count is renamed to instance_count in V2 version of sagemaker.\n",
    "                                      instance_type = 'ml.c4.xlarge',#train_instance_type is renamed to instance_type in V2 version of sagemaker\n",
    "                                      output_path = output_location,\n",
    "                                      sagemaker_session = sagemaker_session,\n",
    "                                      use_spot_instances = True,\n",
    "                                      max_run = 300,\n",
    "                                      max_wait = 600)\n",
    "# Renamed parameters information is provided in::::  (https://sagemaker.readthedocs.io/en/stable/v2.html)\n",
    "\n",
    "# Tune the parameters like : the number of features that we are passing in, type of predictors like regression.\n",
    "# mini_batch(how many data points that we feed into the algorithm at once)\n",
    "# Train 32 diffrent verion of the model and will get the best out of them.\n",
    "\n",
    "linear.set_hyperparameters(feature_dim = 1,\n",
    "                         predictor_type = 'regressor',\n",
    "                         mini_batch_size = 5,\n",
    "                         epochs = 5,\n",
    "                         num_models = 32,\n",
    "                         loss = 'absolute_loss')\n",
    "\n",
    "linear.fit({'train': s3_train_data})"
   ]
  },
  {
   "cell_type": "code",
   "execution_count": 68,
   "metadata": {},
   "outputs": [
    {
     "name": "stdout",
     "output_type": "stream",
     "text": [
      "---------!"
     ]
    }
   ],
   "source": [
    "# Deploying the model to perform inference\n",
    "\n",
    "from sagemaker.deserializers import JSONDeserializer\n",
    "from sagemaker.serializers import CSVSerializer\n",
    "\n",
    "# Serializer accepts a single argument: the input data, and returns a sequence of bytes in the specified content type.\n",
    "# Deserializer accepts two arguments: the result and the response content type, and returns a sequence of bytes in the secified content type.\n",
    "#Reference: https//sagemaker.readthedocs.io/en/stable/predictors.html\n",
    "\n",
    "linear_regressor = linear.deploy(initial_instance_count = 1,\n",
    "                                  instance_type = 'ml.m4.xlarge',\n",
    "                                serializer = CSVSerializer(),\n",
    "                                deserializer = JSONDeserializer())"
   ]
  },
  {
   "cell_type": "code",
   "execution_count": 70,
   "metadata": {},
   "outputs": [],
   "source": [
    "# Content type : Overrides the data that will be passed to the deployedd model, since the deployed model expects data in text/csv formate.\n",
    "linear_regressor.__setattr__(linear_regressor.content_type, \"text/csv\")"
   ]
  },
  {
   "cell_type": "code",
   "execution_count": 72,
   "metadata": {},
   "outputs": [
    {
     "data": {
      "text/plain": [
       "{'predictions': [{'score': 131715.296875},\n",
       "  {'score': 143712.25},\n",
       "  {'score': 68302.796875},\n",
       "  {'score': 123146.0390625},\n",
       "  {'score': 94010.5625},\n",
       "  {'score': 148853.8125},\n",
       "  {'score': 84584.390625},\n",
       "  {'score': 91439.796875},\n",
       "  {'score': 138570.703125}]}"
      ]
     },
     "execution_count": 72,
     "metadata": {},
     "output_type": "execute_result"
    }
   ],
   "source": [
    "#Predicting the test data\n",
    "result =linear_regressor.predict(X_test)\n",
    "result # results are in JSON formate"
   ]
  },
  {
   "cell_type": "code",
   "execution_count": 73,
   "metadata": {},
   "outputs": [
    {
     "data": {
      "text/plain": [
       "array([131715.296875 , 143712.25     ,  68302.796875 , 123146.0390625,\n",
       "        94010.5625   , 148853.8125   ,  84584.390625 ,  91439.796875 ,\n",
       "       138570.703125 ])"
      ]
     },
     "execution_count": 73,
     "metadata": {},
     "output_type": "execute_result"
    }
   ],
   "source": [
    "# Since the result is in JASON formate, we access only the scores by iterating through the scores in the prediction./(OR to obtain the result in the formate of array without that 'score')\n",
    "predictions = np.array([r['score'] for r in result['predictions']])\n",
    "predictions"
   ]
  },
  {
   "cell_type": "code",
   "execution_count": 74,
   "metadata": {},
   "outputs": [
    {
     "data": {
      "text/plain": [
       "(9,)"
      ]
     },
     "execution_count": 74,
     "metadata": {},
     "output_type": "execute_result"
    }
   ],
   "source": [
    "predictions.shape"
   ]
  },
  {
   "cell_type": "code",
   "execution_count": 75,
   "metadata": {},
   "outputs": [
    {
     "data": {
      "text/plain": [
       "Text(0.5, 1.0, 'Salary vs. Years of Experience')"
      ]
     },
     "execution_count": 75,
     "metadata": {},
     "output_type": "execute_result"
    },
    {
     "data": {
      "image/png": "[encoded data removed]",
      "text/plain": [
       "<Figure size 432x288 with 1 Axes>"
      ]
     },
     "metadata": {
      "needs_background": "light"
     },
     "output_type": "display_data"
    }
   ],
   "source": [
    "#VISUALIZE THE TEST RESULT\n",
    "plt.scatter(X_test, y_test, color='grey')\n",
    "plt.plot(X_test, predictions, color='red')\n",
    "plt.xlabel(\"years of Experiance (Testing Dataset)\")\n",
    "plt.ylabel(\"salary\")\n",
    "plt.title(\"Salary vs. Years of Experience\")"
   ]
  },
  {
   "cell_type": "code",
   "execution_count": 78,
   "metadata": {},
   "outputs": [],
   "source": [
    "#delete then end point.\n",
    "linear_regressor.delete_endpoint()"
   ]
  },
  {
   "cell_type": "code",
   "execution_count": null,
   "metadata": {},
   "outputs": [],
   "source": []
  }
 ],
 "metadata": {
  "instance_type": "ml.t3.medium",
  "kernelspec": {
   "display_name": "Python 3 (Data Science)",
   "language": "python",
   "name": "python3__SAGEMAKER_INTERNAL__arn:aws:sagemaker:us-east-1:081325390199:image/datascience-1.0"
  },
  "language_info": {
   "codemirror_mode": {
    "name": "ipython",
    "version": 3
   },
   "file_extension": ".py",
   "mimetype": "text/x-python",
   "name": "python",
   "nbconvert_exporter": "python",
   "pygments_lexer": "ipython3",
   "version": "3.7.10"
  }
 },
 "nbformat": 4,
 "nbformat_minor": 5
}
